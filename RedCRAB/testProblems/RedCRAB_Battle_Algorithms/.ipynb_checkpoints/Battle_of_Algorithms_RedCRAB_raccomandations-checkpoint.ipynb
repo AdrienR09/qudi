{
 "cells": [
  {
   "cell_type": "markdown",
   "metadata": {},
   "source": [
    "# RedCRAB raccomandations and suggestions"
   ]
  },
  {
   "cell_type": "markdown",
   "metadata": {},
   "source": [
    "In Dropbox you can find some code to start to write the simulation for your system. The code is commented with the parts you have to complete and fill on."
   ]
  },
  {
   "cell_type": "markdown",
   "metadata": {},
   "source": [
    "### Some instructions about how you can start."
   ]
  },
  {
   "cell_type": "markdown",
   "metadata": {},
   "source": [
    "* Write the code that you have to simulate\n",
    "\n",
    "* Debug / Check it\n",
    "\n",
    "* Go to Config/Client_Config and update the following fields\n",
    "    * FOMEvaluation := 0\n",
    "    * PyModPath := /home/marco/MEGA/PhDUlm/Qusco/QuscoSchool/RedCRAB_Tutorial_Lecture/RedCRAB_Client_v1.1.3_Master_Es1/testProblems/Qusco_problem_BA1_Ensemble.py\n",
    "    * PyModName := Qusco_problem_BA1_Ensemble.py\n",
    "* Modify following your intuition and obviously the suggestions, commented in the Cfg_#.txt file\n",
    "\n",
    "* Copy Cfg_#.txt file in Config/RedCRAB_config\n",
    "* Start the optimisation just typing: python3.5 RedCRAB.py\n",
    "* For each optimisation you want to perform you have to put a Cfg_#.txt file in Config/RedCRAB_config"
   ]
  },
  {
   "cell_type": "markdown",
   "metadata": {},
   "source": [
    "### Suggestions:"
   ]
  },
  {
   "cell_type": "markdown",
   "metadata": {},
   "source": [
    "* If you are not satisfied by your parameter choice stop RedCRAB.py by typing: python3.5 StopRedCRAB.py\n",
    "* Change the name of Cfg_#.txt each time you want to start a new optimisation\n",
    "* Keep trace of all your jobs in a jupyter notebook (Report_RedCRAB_Es# file)\n",
    "* Check the documentation file for all dubts and/or interesting options\n",
    "* All the data are inside RedCRAB/userstats folder"
   ]
  },
  {
   "cell_type": "markdown",
   "metadata": {},
   "source": [
    "### Connection lost, bugs, errors:"
   ]
  },
  {
   "cell_type": "markdown",
   "metadata": {},
   "source": [
    "* Connection lost: You can try to recovery all your work simply starting again your optimisation (A new Cfg file does not need in this case)\n",
    "* Bugs: Sometimes errors due to reading/writing file can occur. In this case you can try to recover your optimisation as mentioned before\n",
    "* Errors: If you committe mistakes on writing Cfg_#.txt file and/or in the Python script, I suggest you to abort brutally the optimisation (ctrl-c), delete the tmp folder in bin folder, correct the errors and start a new optimisation"
   ]
  }
 ],
 "metadata": {
  "kernelspec": {
   "display_name": "Python 3",
   "language": "python",
   "name": "python3"
  },
  "language_info": {
   "codemirror_mode": {
    "name": "ipython",
    "version": 3
   },
   "file_extension": ".py",
   "mimetype": "text/x-python",
   "name": "python",
   "nbconvert_exporter": "python",
   "pygments_lexer": "ipython3",
   "version": "3.7.2"
  }
 },
 "nbformat": 4,
 "nbformat_minor": 2
}
