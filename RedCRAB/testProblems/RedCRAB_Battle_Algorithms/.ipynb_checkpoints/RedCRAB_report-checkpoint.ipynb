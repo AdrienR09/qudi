{
 "cells": [
  {
   "cell_type": "markdown",
   "metadata": {},
   "source": [
    "# RedCRAB Report"
   ]
  },
  {
   "cell_type": "code",
   "execution_count": 1,
   "metadata": {},
   "outputs": [],
   "source": [
    "#Probably useful functions for reading - plotting files\n",
    "from readData_macro import readGData, readFData\n",
    "from plot_macro import plot_xy\n",
    "\n",
    "import numpy as np"
   ]
  },
  {
   "cell_type": "markdown",
   "metadata": {},
   "source": [
    "### Plot figure of merit"
   ]
  },
  {
   "cell_type": "code",
   "execution_count": null,
   "metadata": {},
   "outputs": [],
   "source": [
    "pathfile_fom = \"Path_of_Fom_data-txt\"\n",
    "splitter = \"\"\n",
    "x_pos = 0\n",
    "y_pos = 0\n",
    "namefile = \"Name_of_your_result.pdf\"\n",
    "(x,y,exit_code) = readFData(pathfile, splitter, y_pos)\n",
    "y_min = .0\n",
    "y_max = 1.\n",
    "plot_xy(x, y, y_min, y_max, \"evaluation number\", \"Infidelity\", namefile)"
   ]
  },
  {
   "cell_type": "markdown",
   "metadata": {},
   "source": [
    "### Plot optimal pulses"
   ]
  },
  {
   "cell_type": "code",
   "execution_count": null,
   "metadata": {},
   "outputs": [],
   "source": [
    "pathfile_pulse = \"Path_of_Optimal_Pulses.txt\"\n",
    "splitter = \"\"\n",
    "x_pos = 0 # Position Timegrid\n",
    "y_pos = 1 # Position of your pulse\n",
    "x_label = r\"Amplitude $u_{1}(t)$ [A.U]\"\n",
    "(x,y,exit_code) = readGData(pathfile1, splitter, x_pos, y_pos)\n",
    "ymin = \"\"\n",
    "ymax = \"\"\n",
    "namefile_pulse = \"FirstPulse.pdf\"\n",
    "plot_xy(x, y, ymin, ymax, \"t [s]\", x_label, namefile_pulse)"
   ]
  },
  {
   "cell_type": "markdown",
   "metadata": {},
   "source": [
    "### Other quantities"
   ]
  },
  {
   "cell_type": "code",
   "execution_count": null,
   "metadata": {},
   "outputs": [],
   "source": [
    "# Populations ... Given the optimal pulses, write a code that computes the population against time "
   ]
  }
 ],
 "metadata": {
  "kernelspec": {
   "display_name": "Python 3",
   "language": "python",
   "name": "python3"
  },
  "language_info": {
   "codemirror_mode": {
    "name": "ipython",
    "version": 3
   },
   "file_extension": ".py",
   "mimetype": "text/x-python",
   "name": "python",
   "nbconvert_exporter": "python",
   "pygments_lexer": "ipython3",
   "version": "3.7.2"
  }
 },
 "nbformat": 4,
 "nbformat_minor": 2
}
