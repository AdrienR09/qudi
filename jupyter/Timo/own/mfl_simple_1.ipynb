{
 "cells": [
  {
   "cell_type": "markdown",
   "source": [
    "# Import"
   ],
   "metadata": {
    "collapsed": false
   }
  },
  {
   "cell_type": "code",
   "execution_count": null,
   "outputs": [],
   "source": [
    "path_essentials = '/Users/Setup3-PC/Desktop/qudi/logic/setup3_logic/script_logic_essentials.py'\n",
    "import os\n",
    "import time\n",
    "print('{}, working dir: {}'.format(time.ctime(), os.getcwd()))\n",
    "#path_essentials = 'scripts/Simon/script_logic_essentials.py'\n",
    "exec(open(path_essentials).read())"
   ],
   "metadata": {
    "collapsed": false,
    "pycharm": {
     "name": "#%%\n"
    }
   }
  },
  {
   "cell_type": "code",
   "execution_count": null,
   "outputs": [],
   "source": [
    "memory_dict=OrderedDict()"
   ],
   "metadata": {
    "collapsed": false,
    "pycharm": {
     "name": "#%%\n"
    }
   }
  },
  {
   "cell_type": "markdown",
   "source": [
    "# Common parameters"
   ],
   "metadata": {
    "collapsed": false
   }
  },
  {
   "cell_type": "code",
   "execution_count": null,
   "outputs": [],
   "source": [
    "# MW parameters\n",
    "common_rabi_period = 82.85e-9\n",
    "common_mw_freq = 1.47977e9\n",
    "common_mw_amp = 0.25\n",
    "\n",
    "# Cnot gates\n",
    "common_mw_cnot_freq = common_mw_freq + 3.03e6\n",
    "common_mw_cnot_period = 566.5e-9\n",
    "common_mw_cnot_amp = 0.25/14.8\n",
    "common_mw_cnot_freq2 = common_mw_freq\n",
    "common_mw_cnot_period2 = 582.5e-9\n",
    "common_mw_cnot_amp2 = 0.25/14.4\n",
    "\n",
    "# N15 control\n",
    "common_rf_period = 114e-6\n",
    "common_rf_freq = 1.07457e6#1.9574e6\n",
    "common_rf_amp = 0.25/2.5\n",
    "\n",
    "common_refocus_time = 300"
   ],
   "metadata": {
    "collapsed": false,
    "pycharm": {
     "name": "#%%\n"
    }
   }
  },
  {
   "cell_type": "markdown",
   "source": [
    "# Laser options"
   ],
   "metadata": {
    "collapsed": false
   }
  },
  {
   "cell_type": "markdown",
   "source": [
    "## Optimize position"
   ],
   "metadata": {
    "collapsed": false
   }
  },
  {
   "cell_type": "code",
   "execution_count": null,
   "outputs": [],
   "source": [
    "optimize_position()"
   ],
   "metadata": {
    "collapsed": false,
    "pycharm": {
     "name": "#%%\n"
    }
   }
  },
  {
   "cell_type": "markdown",
   "source": [
    "## Laser On"
   ],
   "metadata": {
    "collapsed": false
   }
  },
  {
   "cell_type": "code",
   "execution_count": null,
   "outputs": [],
   "source": [
    "laser_on(pulser_on = False)"
   ],
   "metadata": {
    "collapsed": false,
    "pycharm": {
     "name": "#%%\n"
    }
   }
  },
  {
   "cell_type": "markdown",
   "source": [
    "## Laser Off"
   ],
   "metadata": {
    "collapsed": false
   }
  },
  {
   "cell_type": "code",
   "execution_count": null,
   "outputs": [],
   "source": [
    "laser_off(pulser_on = False)"
   ],
   "metadata": {
    "collapsed": false,
    "pycharm": {
     "name": "#%%\n"
    }
   }
  },
  {
   "cell_type": "markdown",
   "source": [
    "# Frequency Optimization parameters"
   ],
   "metadata": {
    "collapsed": false
   }
  },
  {
   "cell_type": "code",
   "execution_count": null,
   "outputs": [],
   "source": [
    "optimize_freq_dict=OrderedDict()\n",
    "optimize_freq_dict['mw_optimization_method'] = 'pulsedodmr'\n",
    "optimize_freq_dict['optimize_generate_new'] = False\n",
    "optimize_freq_dict['save_tag'] = 'optimize_frequency'\n",
    "optimize_freq_dict['optimize_fit_method'] = 'N15'\n",
    "optimize_freq_dict['parameters2update'] = {'center': 'microwave_frequency'}\n",
    "\n",
    "optimize_freq_dict['name'] = 'Pulsed_ODMR'\n",
    "optimize_freq_dict['rabi_period'] = 1800e-9\n",
    "optimize_freq_dict['freq_start'] = 4.127e9\n",
    "optimize_freq_dict['freq_step'] = 0.2e6\n",
    "optimize_freq_dict['num_of_points'] = 50\n",
    "optimize_freq_dict['microwave_amplitude'] = common_mw_amp/15\n",
    "optimize_freq_dict['meas_type'] = conventional_measurement\n",
    "optimize_freq_dict['meas_info'] = add_conventional_information\n",
    "\n",
    "optimize_freq_dict['measurement_time'] = 30\n",
    "optimize_freq_dict['optimize_time'] = None\n",
    "optimize_freq_dict['optimize_generate_new'] = True\n",
    "\n",
    "\n"
   ],
   "metadata": {
    "collapsed": false,
    "pycharm": {
     "name": "#%%\n"
    }
   }
  },
  {
   "cell_type": "code",
   "execution_count": null,
   "outputs": [],
   "source": [],
   "metadata": {
    "collapsed": false,
    "pycharm": {
     "name": "#%% Tests for simple MFL\n"
    }
   }
  },
  {
   "cell_type": "code",
   "execution_count": null,
   "outputs": [],
   "source": [
    "def setup_ramsey_params(tau):\n",
    "    qmeas=OrderedDict()\n",
    "    qmeas['name'] = 'Ramsey'\n",
    "    qmeas['rabi_period'] = common_rabi_period\n",
    "    qmeas['microwave_frequency'] = common_mw_freq+100e3\n",
    "    qmeas['microwave_amplitude'] = common_mw_amp/1\n",
    "    qmeas['tau_start'] = 10e-6\n",
    "    qmeas['tau_step'] = 100e-9\n",
    "    qmeas['num_of_points'] = 1\n",
    "    qmeas['alternating'] = True\n",
    "    \n",
    "    qmeas['from_list'] = False\n",
    "    qmeas['tau_list'] = np.linspace(100,100*50,50) * 1e-9\n",
    "    \n",
    "    qmeas['measurement_time'] = 1500\n",
    "    qmeas['optimize_time'] = None\n",
    "    #qmeas['freq_optimization_time'] = None\n",
    "    #qmeas['analysis_interval'] = 3\n",
    "    \n",
    "    return qmeas\n",
    "\n",
    "def run_ramsey(mes_params):\n",
    "    do_experiment(experiment='ramsey', qm_dict=qmeas, meas_type=conventional_measurement, \n",
    "        meas_info=add_conventional_information, generate_new=True, save_tag='Ramsey',load_tag='')\n",
    "\n",
    "def calc_new_tau():\n",
    "    # todo: dummy\n",
    "    import random\n",
    "    return random.randint(100,1000)\n",
    "    "
   ],
   "metadata": {
    "collapsed": false,
    "pycharm": {
     "name": "#%%\n"
    }
   }
  },
  {
   "cell_type": "markdown",
   "source": [
    "for idx_epoch in range(0, 10):\n",
    "    tau = calc_new_tau()\n",
    "    qmeas = setup_ramsey_params()\n",
    "    run_ramsey(qmeas)\n",
    "    \n"
   ],
   "metadata": {
    "collapsed": false
   }
  },
  {
   "cell_type": "markdown",
   "source": [
    "# Fit from script\n"
   ],
   "metadata": {
    "collapsed": false
   }
  },
  {
   "cell_type": "code",
   "execution_count": null,
   "outputs": [],
   "source": [
    "import copy\n",
    "\n",
    "pulsedmeasurementlogic.fc.set_current_fit('t2')\n",
    "\n",
    "data = pulsedmeasurementlogic.signal_data\n",
    "\n",
    "params={'order': {'value':16, 'vary': False}}\n",
    "params['amp'] = {'value':40e3, 'min':10e3, 'max':75e3, 'vary': True}\n",
    "#freq = np.round(1/2/187.2e-9)\n",
    "#params['frequency'] = {'value':freq, 'min':2.66e6, 'max':2.666e6, 'vary': True}\n",
    "#params['frequency'] = {'value':freq, 'vary': False}\n",
    "params['phase'] = {'value':np.pi, 'vary': False}\n",
    "#params['offset'] = {'value':0.87, 'vary': False}\n",
    "\n",
    "\n",
    "x_fit, y_fit, result = pulsedmeasurementlogic.fc.do_fit(data[0], data[1], params)\n",
    "\n",
    "fit_data = np.array([x_fit, y_fit])\n",
    "\n",
    "pulsedmeasurementlogic.signal_fit_data = fit_data\n",
    "pulsedmeasurementlogic.fit_result = copy.deepcopy(pulsedmeasurementlogic.fc.current_fit_result)\n",
    "pulsedmeasurementlogic.sigFitUpdated.emit(pulsedmeasurementlogic.fc.current_fit, \n",
    "                                          pulsedmeasurementlogic.signal_fit_data, \n",
    "                                          pulsedmeasurementlogic.fit_result,\n",
    "                                          False)\n",
    "\n",
    "result.result_str_dict"
   ],
   "metadata": {
    "collapsed": false,
    "pycharm": {
     "name": "#%%\n"
    }
   }
  },
  {
   "cell_type": "markdown",
   "source": [
    "# Further Measurements"
   ],
   "metadata": {
    "collapsed": false
   }
  },
  {
   "cell_type": "markdown",
   "source": [
    "## Rabi alternating"
   ],
   "metadata": {
    "collapsed": false
   }
  },
  {
   "cell_type": "code",
   "execution_count": null,
   "outputs": [],
   "source": [
    "qmeas=OrderedDict()\n",
    "qmeas['name'] = 'Rabi'\n",
    "qmeas['tau_start'] = 0e-9\n",
    "qmeas['tau_step'] = 20e-9\n",
    "qmeas['num_of_points'] = 50\n",
    "qmeas['microwave_frequency'] = common_mw_freq #+ 3.03e6\n",
    "qmeas['microwave_amplitude'] = 0.25/14.4\n",
    "\n",
    "qmeas['measurement_time'] = None\n",
    "\n",
    "qmeas['optimize_time'] = None\n",
    "qmeas['freq_optimize_time'] = None\n",
    "qmeas['fit_experiment'] = 'cosine'\n",
    "\n",
    "do_experiment(experiment='rabi_alternating', qm_dict=qmeas, meas_type=conventional_measurement, meas_info=add_conventional_information,\n",
    "              generate_new=True, save_tag='Rabi_'+str(round(qmeas['microwave_amplitude']*1000))+'mV',load_tag='')"
   ],
   "metadata": {
    "collapsed": false,
    "pycharm": {
     "name": "#%%\n"
    }
   }
  },
  {
   "cell_type": "code",
   "execution_count": null,
   "outputs": [],
   "source": [
    "test = [0,2,3,4]\n",
    "test1 = [5,7,8,9]\n",
    "\n",
    "test2 = [0,3,6]\n",
    "\n",
    "[x for x in test2 if x-1 in np.concatenate((test,test1))]\n"
   ],
   "metadata": {
    "collapsed": false,
    "pycharm": {
     "name": "#%%\n"
    }
   }
  },
  {
   "cell_type": "code",
   "execution_count": null,
   "outputs": [],
   "source": [
    "bright_charge = singleshotlogic.bright_states\n",
    "dark_charge = singleshotlogic.dark_states\n",
    "\n",
    "bright_filtered = [x for x in bright_charge if x-1 in np.concatenate((bright_charge,dark_charge))]\n",
    "dark_filtered = [x for x in dark_charge if x-1 in np.concatenate((bright_charge,dark_charge))]\n",
    "\n",
    "bright = [x for x in bright_filtered if x%2!=0]\n",
    "dark = [x for x in dark_filtered if x%2!=0]\n",
    "\n",
    "bright_alt = [x for x in bright_filtered if x%2==0]\n",
    "dark_alt = [x for x in dark_filtered if x%2==0]\n",
    "\n",
    "mapped_state = len(bright)/(len(bright)+len(dark))\n",
    "mapped_alt = len(bright_alt)/(len(bright_alt)+len(dark_alt))\n",
    "\n",
    "#sorted(np.concatenate((bright_charge,dark_charge)))\n",
    "#singleshotlogic.charge_state[:10]\n",
    "print(mapped_alt)\n",
    "print(mapped_state)"
   ],
   "metadata": {
    "collapsed": false,
    "pycharm": {
     "name": "#%%\n"
    }
   }
  },
  {
   "cell_type": "code",
   "execution_count": null,
   "outputs": [],
   "source": [
    "np.where(singleshotlogic.charge_state < singleshotlogic.charge_threshold)[0]"
   ],
   "metadata": {
    "collapsed": false,
    "pycharm": {
     "name": "#%%\n"
    }
   }
  },
  {
   "cell_type": "code",
   "execution_count": null,
   "outputs": [],
   "source": [],
   "metadata": {
    "collapsed": false,
    "pycharm": {
     "name": "#%%\n"
    }
   }
  }
 ],
 "metadata": {
  "celltoolbar": "Raw Cell Format",
  "kernelspec": {
   "display_name": "Qudi",
   "language": "python",
   "name": "qudi"
  },
  "language_info": {
   "codemirror_mode": {
    "name": "ipython",
    "version": "3.6.5"
   },
   "file_extension": ".py",
   "mimetype": "text/x-python",
   "name": "python",
   "nbconvert_exporter": "python",
   "pygments_lexer": "ipython3",
   "version": "3.6.5"
  },
  "pycharm": {
   "stem_cell": {
    "cell_type": "raw",
    "source": [],
    "metadata": {
     "collapsed": false
    }
   }
  },
  "toc": {
   "base_numbering": 1,
   "nav_menu": {},
   "number_sections": true,
   "sideBar": true,
   "skip_h1_title": false,
   "title_cell": "Table of Contents",
   "title_sidebar": "Contents",
   "toc_cell": false,
   "toc_position": {
    "height": "calc(100% - 180px)",
    "left": "10px",
    "top": "150px",
    "width": "341px"
   },
   "toc_section_display": true,
   "toc_window_display": true
  }
 },
 "nbformat": 4,
 "nbformat_minor": 1
}