{
 "cells": [
  {
   "cell_type": "markdown",
   "metadata": {},
   "source": [
    "# Import"
   ]
  },
  {
   "cell_type": "code",
   "execution_count": 1,
   "metadata": {
    "pycharm": {
     "name": "#%%\n"
    }
   },
   "outputs": [
    {
     "name": "stdout",
     "output_type": "stream",
     "text": [
      "Fri May 24 12:17:15 2019, working dir: C:\\Users\\Setup3-PC\\Desktop\\qudi\n"
     ]
    }
   ],
   "source": [
    "#path_essentials = '/Users/Setup3-PC/Desktop/qudi/logic/setup3_logic/script_logic_essentials.py'\n",
    "path_essentials = 'jupyter/Timo/from_Simon/script_logic_essentials.py'\n",
    "path_curdir = 'jupyter/Timo/own/'\n",
    "\n",
    "import os, time, sys\n",
    "import numpy as np\n",
    "\n",
    "\n",
    "# import essentials via run\n",
    "exec(open(path_essentials).read())\n",
    "# usual module imports\n",
    "sys.path.append(path_curdir)\n",
    "\n",
    "import logging\n",
    "logging.basicConfig(filename='logfile.log', filemode='w', level=logging.DEBUG)\n",
    "logger = logging.getLogger(__name__)\n",
    "\n",
    "memory_dict=OrderedDict()\n",
    "print('{}, working dir: {}'.format(time.ctime(), os.getcwd()))"
   ]
  },
  {
   "cell_type": "markdown",
   "metadata": {},
   "source": [
    "# Common parameters"
   ]
  },
  {
   "cell_type": "code",
   "execution_count": 2,
   "metadata": {
    "pycharm": {
     "name": "#%%\n"
    }
   },
   "outputs": [],
   "source": [
    "# MW parameters\n",
    "common_rabi_period = 82.85e-9\n",
    "common_mw_freq = 1.47977e9\n",
    "common_mw_amp = 0.25\n",
    "\n",
    "# Cnot gates\n",
    "common_mw_cnot_freq = common_mw_freq + 3.03e6\n",
    "common_mw_cnot_period = 566.5e-9\n",
    "common_mw_cnot_amp = 0.25/14.8\n",
    "common_mw_cnot_freq2 = common_mw_freq\n",
    "common_mw_cnot_period2 = 582.5e-9\n",
    "common_mw_cnot_amp2 = 0.25/14.4\n",
    "\n",
    "# N15 control\n",
    "common_rf_period = 114e-6\n",
    "common_rf_freq = 1.07457e6#1.9574e6\n",
    "common_rf_amp = 0.25/2.5\n",
    "\n",
    "common_refocus_time = 300"
   ]
  },
  {
   "cell_type": "markdown",
   "metadata": {},
   "source": [
    "# Laser options"
   ]
  },
  {
   "cell_type": "markdown",
   "metadata": {
    "pycharm": {
     "name": "#%% md\n"
    }
   },
   "source": [
    "## Optimize position"
   ]
  },
  {
   "cell_type": "code",
   "execution_count": null,
   "metadata": {
    "pycharm": {
     "name": "#%%\n"
    }
   },
   "outputs": [],
   "source": [
    "optimize_position()"
   ]
  },
  {
   "cell_type": "markdown",
   "metadata": {},
   "source": [
    "## Laser On"
   ]
  },
  {
   "cell_type": "code",
   "execution_count": null,
   "metadata": {
    "pycharm": {
     "name": "#%%\n"
    }
   },
   "outputs": [],
   "source": [
    "laser_on(pulser_on = False)"
   ]
  },
  {
   "cell_type": "markdown",
   "metadata": {},
   "source": [
    "## Laser Off"
   ]
  },
  {
   "cell_type": "code",
   "execution_count": null,
   "metadata": {
    "pycharm": {
     "name": "#%%\n"
    }
   },
   "outputs": [],
   "source": [
    "laser_off(pulser_on = False)"
   ]
  },
  {
   "cell_type": "markdown",
   "metadata": {},
   "source": [
    "# Frequency Optimization parameters"
   ]
  },
  {
   "cell_type": "code",
   "execution_count": null,
   "metadata": {
    "pycharm": {
     "name": "#%%\n"
    }
   },
   "outputs": [],
   "source": [
    "optimize_freq_dict=OrderedDict()\n",
    "optimize_freq_dict['mw_optimization_method'] = 'pulsedodmr'\n",
    "optimize_freq_dict['optimize_generate_new'] = False\n",
    "optimize_freq_dict['save_tag'] = 'optimize_frequency'\n",
    "optimize_freq_dict['optimize_fit_method'] = 'N15'\n",
    "optimize_freq_dict['parameters2update'] = {'center': 'microwave_frequency'}\n",
    "\n",
    "optimize_freq_dict['name'] = 'Pulsed_ODMR'\n",
    "optimize_freq_dict['rabi_period'] = 1800e-9\n",
    "optimize_freq_dict['freq_start'] = 4.127e9\n",
    "optimize_freq_dict['freq_step'] = 0.2e6\n",
    "optimize_freq_dict['num_of_points'] = 50\n",
    "optimize_freq_dict['microwave_amplitude'] = common_mw_amp/15\n",
    "optimize_freq_dict['meas_type'] = conventional_measurement\n",
    "optimize_freq_dict['meas_info'] = add_conventional_information\n",
    "\n",
    "optimize_freq_dict['measurement_time'] = 30\n",
    "optimize_freq_dict['optimize_time'] = None\n",
    "optimize_freq_dict['optimize_generate_new'] = True"
   ]
  },
  {
   "cell_type": "markdown",
   "metadata": {},
   "source": [
    "#  Tests for simple MFL"
   ]
  },
  {
   "cell_type": "code",
   "execution_count": null,
   "metadata": {
    "pycharm": {
     "name": "#%% \n"
    }
   },
   "outputs": [],
   "source": []
  },
  {
   "cell_type": "markdown",
   "metadata": {},
   "source": [
    "## Rabi"
   ]
  },
  {
   "cell_type": "code",
   "execution_count": null,
   "metadata": {
    "pycharm": {
     "name": "#%%\n"
    }
   },
   "outputs": [],
   "source": [
    "qmeas=OrderedDict()\n",
    "qmeas['name'] = 'Rabi'\n",
    "qmeas['tau_start'] = 0e-9\n",
    "qmeas['tau_step'] = 4e-9\n",
    "qmeas['num_of_points'] = 50\n",
    "qmeas['microwave_frequency'] = common_mw_freq #+ 0.5*3.03e6\n",
    "qmeas['microwave_amplitude'] = common_mw_amp/1\n",
    "\n",
    "qmeas['measurement_time'] = None\n",
    "qmeas['optimize_time'] = None\n",
    "qmeas['freq_optimize_time'] = None\n",
    "#qmeas['fit_experiment'] = None  #'cosine'\n",
    "#qmeas['analysis_interval'] = 3\n",
    "qmeas['n_sweeps'] = 2\n",
    "\n",
    "\n",
    "do_experiment(experiment='rabi', qm_dict=qmeas, meas_type=pulsed_with_result_mes, meas_info=add_conventional_information,\n",
    "              generate_new=True, save_tag='Rabi_'+str(round(qmeas['microwave_amplitude']*1000))+'mV',load_tag='')"
   ]
  },
  {
   "cell_type": "code",
   "execution_count": 3,
   "metadata": {
    "pycharm": {
     "name": "#%%\n"
    }
   },
   "outputs": [],
   "source": [
    "def setup_ramsey_params(tau):\n",
    "    qmeas=OrderedDict()\n",
    "    qmeas['name'] = 'Ramsey'\n",
    "    qmeas['rabi_period'] = common_rabi_period\n",
    "    qmeas['microwave_frequency'] = common_mw_freq+100e3\n",
    "    qmeas['microwave_amplitude'] = common_mw_amp/1\n",
    "    qmeas['tau_start'] = tau\n",
    "    qmeas['tau_step'] = 10e-9\n",
    "    qmeas['num_of_points'] = 1\n",
    "    qmeas['alternating'] = False\n",
    "    \n",
    "    qmeas['from_list'] = False\n",
    "    \n",
    "    qmeas['optimize_time'] = None\n",
    "    #qmeas['freq_optimization_time'] = None\n",
    "    #qmeas['analysis_interval'] = 3\n",
    "    \n",
    "    return qmeas\n",
    "\n",
    "def run_ramsey(mes_params,  n_sweeps_stop=0):\n",
    "    \n",
    "    if n_sweeps_stop > 0:\n",
    "        # else don't stop by sweeps\n",
    "        mes_params['n_sweeps'] = n_sweeps_stop\n",
    "    \n",
    "    do_experiment(experiment='ramsey', qm_dict=mes_params, meas_type=conventional_measurement, \n",
    "        meas_info=add_conventional_information, generate_new=True, save_tag='Ramsey',load_tag='')   \n",
    "    \n",
    "    if get_current_pulsed_mes_running():\n",
    "        logger.warning(\"Mes still running after do_experiment().\")\n",
    "        return (None, None)\n",
    "    \n",
    "    else:\n",
    "        mes = get_current_pulsed_mes()\n",
    "        x = mes.signal_data[0]\n",
    "        y = mes.signal_data[1]\n",
    "        \n",
    "        return (x,y)    \n",
    "    \n",
    "\n",
    "def calc_new_tau():\n",
    "    # todo: dummy\n",
    "    import random\n",
    "    return random.randint(100,1000)\n",
    "\n",
    "def DEBUG_randomize(z):\n",
    "    import random\n",
    "    return random.randint(0,100)*z/100."
   ]
  },
  {
   "cell_type": "markdown",
   "metadata": {
    "pycharm": {
     "name": "#%% md\n"
    }
   },
   "source": [
    "# Run MFL (debug)"
   ]
  },
  {
   "cell_type": "code",
   "execution_count": null,
   "metadata": {
    "pycharm": {
     "name": "#%%\n"
    }
   },
   "outputs": [],
   "source": [
    "n_sweeps = 20\n",
    "\n",
    "for idx_epoch in range(0, 10):\n",
    "    tau = calc_new_tau()\n",
    "    B = 0\n",
    "    db = 0\n",
    "    logger.info(\"MFL Epoch {}, B/dB {} ({}), tau {}:\".format(idx_epoch, B, dB, tau))\n",
    "    qmeas = setup_ramsey_params(tau)\n",
    "    run_ramsey(qmeas, n_sweeps_stop=n_sweeps)"
   ]
  },
  {
   "cell_type": "markdown",
   "metadata": {},
   "source": [
    "# Prepare MFL"
   ]
  },
  {
   "cell_type": "code",
   "execution_count": 4,
   "metadata": {
    "pycharm": {
     "name": "#%%\n"
    }
   },
   "outputs": [],
   "source": [
    "from mfl_sensing_simplelib import *\n",
    "import qinfer as qi\n",
    "\n",
    "n_particles = 1000\n",
    "freq_min = 0\n",
    "freq_max = 2*np.pi*10 #MHz\n",
    "# the expected T2, when 0 this is the ideal case\n",
    "inv_T2 = 0\n",
    "\n",
    "\n",
    "prior = qi.UniformDistribution([freq_min, freq_max])\n",
    "model = ExpDecoKnownPrecessionModel(min_freq = freq_min, invT2 = inv_T2)\n",
    "\n",
    "# resetting updater&heuristic for ease of multiple calls to this cell\n",
    "updater = basic_SMCUpdater(model, n_particles, prior, resample_a=0.98, resample_thresh=0.5)\n",
    "from_heuristic = stdPGH(updater, inv_field='w_')\n",
    "\n",
    "track_B = []\n",
    "track_dB = []\n",
    "track_tau = []"
   ]
  },
  {
   "cell_type": "markdown",
   "metadata": {},
   "source": [
    "# Run MFL "
   ]
  },
  {
   "cell_type": "code",
   "execution_count": 5,
   "metadata": {
    "pycharm": {
     "name": "#%%\n"
    }
   },
   "outputs": [],
   "source": [
    "def run_mfl(n_epchos=5, n_sweeps=20):\n",
    "    B = None\n",
    "    dB = None\n",
    "    for idx_epoch in range(0, n_epchos):\n",
    "        \n",
    "        tau_and_x = from_heuristic()\n",
    "        tau = tau_and_x['t']    # us\n",
    "\n",
    "        logger.info(\"MFL Epoch {}/{}, B/dB {} ({}), tau {}:\".format(idx_epoch, n_epchos, B, dB, tau))\n",
    "        qmeas = setup_ramsey_params(tau * 1e-6)\n",
    "        \n",
    "        _, z = run_ramsey(qmeas, n_sweeps_stop=n_sweeps)\n",
    "        z = DEBUG_randomize(z[0])    # we run only a single tau, so should be only 1 element\n",
    "        logger.info(\"Ramsey result out of {} sweeps: {}\".format(n_sweeps, z))\n",
    "        \n",
    "        # update prior\n",
    "        updater.update(z, tau_and_x)\n",
    "        B = updater.est_mean()\n",
    "        dB =  np.sqrt( updater.est_covariance_mtx() )[0]\n",
    "        track_B.append(B)\n",
    "        track_dB.append(dB)\n",
    "        track_tau.append(tau*1e-6)\n",
    "    \n",
    "    logger.info(\"MFL finishehd\")"
   ]
  },
  {
   "cell_type": "markdown",
   "metadata": {},
   "source": [
    "# Execute MFL "
   ]
  },
  {
   "cell_type": "code",
   "execution_count": null,
   "metadata": {
    "pycharm": {
     "name": "#%%     \n"
    }
   },
   "outputs": [],
   "source": [
    "track_B = []\n",
    "track_dB = []\n",
    "track_tau = []\n",
    "\n",
    "userglobals.abort.clear()\n",
    "run_mfl(n_epchos=10, n_sweeps=2)"
   ]
  },
  {
   "cell_type": "code",
   "execution_count": 45,
   "metadata": {},
   "outputs": [
    {
     "data": {
      "image/png": "[encoded data removed]"
     },
     "metadata": {
      "image/png": {
       "height": 911,
       "width": 1775
      }
     },
     "output_type": "display_data"
    }
   ],
   "source": [
    "import matplotlib.pyplot as plt\n",
    "plt.plot(track_B)\n",
    "plt.plot(track_dB)\n",
    "plt.show()\n",
    "#print(track_B)\n",
    "\n",
    "#print(track_tau)"
   ]
  },
  {
   "cell_type": "markdown",
   "metadata": {},
   "source": [
    "# Fit from script\n"
   ]
  },
  {
   "cell_type": "code",
   "execution_count": null,
   "metadata": {
    "pycharm": {
     "name": "#%%\n"
    }
   },
   "outputs": [],
   "source": [
    "import copy\n",
    "\n",
    "pulsedmeasurementlogic.fc.set_current_fit('t2')\n",
    "\n",
    "data = pulsedmeasurementlogic.signal_data\n",
    "\n",
    "params={'order': {'value':16, 'vary': False}}\n",
    "params['amp'] = {'value':40e3, 'min':10e3, 'max':75e3, 'vary': True}\n",
    "#freq = np.round(1/2/187.2e-9)\n",
    "#params['frequency'] = {'value':freq, 'min':2.66e6, 'max':2.666e6, 'vary': True}\n",
    "#params['frequency'] = {'value':freq, 'vary': False}\n",
    "params['phase'] = {'value':np.pi, 'vary': False}\n",
    "#params['offset'] = {'value':0.87, 'vary': False}\n",
    "\n",
    "\n",
    "x_fit, y_fit, result = pulsedmeasurementlogic.fc.do_fit(data[0], data[1], params)\n",
    "\n",
    "fit_data = np.array([x_fit, y_fit])\n",
    "\n",
    "pulsedmeasurementlogic.signal_fit_data = fit_data\n",
    "pulsedmeasurementlogic.fit_result = copy.deepcopy(pulsedmeasurementlogic.fc.current_fit_result)\n",
    "pulsedmeasurementlogic.sigFitUpdated.emit(pulsedmeasurementlogic.fc.current_fit, \n",
    "                                          pulsedmeasurementlogic.signal_fit_data, \n",
    "                                          pulsedmeasurementlogic.fit_result,\n",
    "                                          False)\n",
    "\n",
    "result.result_str_dict"
   ]
  },
  {
   "cell_type": "markdown",
   "metadata": {},
   "source": [
    "# Further Measurements"
   ]
  },
  {
   "cell_type": "markdown",
   "metadata": {},
   "source": [
    "## Rabi alternating"
   ]
  },
  {
   "cell_type": "code",
   "execution_count": null,
   "metadata": {
    "pycharm": {
     "name": "#%%\n"
    }
   },
   "outputs": [],
   "source": [
    "qmeas=OrderedDict()\n",
    "qmeas['name'] = 'Rabi'\n",
    "qmeas['tau_start'] = 0e-9\n",
    "qmeas['tau_step'] = 20e-9\n",
    "qmeas['num_of_points'] = 50\n",
    "qmeas['microwave_frequency'] = common_mw_freq #+ 3.03e6\n",
    "qmeas['microwave_amplitude'] = 0.25/14.4\n",
    "\n",
    "qmeas['measurement_time'] = None\n",
    "\n",
    "qmeas['optimize_time'] = None\n",
    "qmeas['freq_optimize_time'] = None\n",
    "qmeas['fit_experiment'] = None #'cosine'\n",
    "\n",
    "do_experiment(experiment='rabi_alternating', qm_dict=qmeas, meas_type=conventional_measurement, meas_info=add_conventional_information,\n",
    "              generate_new=True, save_tag='Rabi_'+str(round(qmeas['microwave_amplitude']*1000))+'mV',load_tag='')"
   ]
  },
  {
   "cell_type": "code",
   "execution_count": null,
   "metadata": {
    "pycharm": {
     "name": "#%%\n"
    }
   },
   "outputs": [],
   "source": [
    "test = [0,2,3,4]\n",
    "test1 = [5,7,8,9]\n",
    "\n",
    "test2 = [0,3,6]\n",
    "\n",
    "[x for x in test2 if x-1 in np.concatenate((test,test1))]"
   ]
  },
  {
   "cell_type": "code",
   "execution_count": null,
   "metadata": {
    "pycharm": {
     "name": "#%%\n"
    }
   },
   "outputs": [],
   "source": [
    "bright_charge = singleshotlogic.bright_states\n",
    "dark_charge = singleshotlogic.dark_states\n",
    "\n",
    "bright_filtered = [x for x in bright_charge if x-1 in np.concatenate((bright_charge,dark_charge))]\n",
    "dark_filtered = [x for x in dark_charge if x-1 in np.concatenate((bright_charge,dark_charge))]\n",
    "\n",
    "bright = [x for x in bright_filtered if x%2!=0]\n",
    "dark = [x for x in dark_filtered if x%2!=0]\n",
    "\n",
    "bright_alt = [x for x in bright_filtered if x%2==0]\n",
    "dark_alt = [x for x in dark_filtered if x%2==0]\n",
    "\n",
    "mapped_state = len(bright)/(len(bright)+len(dark))\n",
    "mapped_alt = len(bright_alt)/(len(bright_alt)+len(dark_alt))\n",
    "\n",
    "#sorted(np.concatenate((bright_charge,dark_charge)))\n",
    "#singleshotlogic.charge_state[:10]\n",
    "print(mapped_alt)\n",
    "print(mapped_state)"
   ]
  },
  {
   "cell_type": "code",
   "execution_count": null,
   "metadata": {
    "pycharm": {
     "name": "#%%\n"
    }
   },
   "outputs": [],
   "source": [
    "np.where(singleshotlogic.charge_state < singleshotlogic.charge_threshold)[0]"
   ]
  },
  {
   "cell_type": "code",
   "execution_count": null,
   "metadata": {
    "pycharm": {
     "name": "#%%\n"
    }
   },
   "outputs": [],
   "source": []
  }
 ],
 "metadata": {
  "celltoolbar": "Raw Cell Format",
  "kernelspec": {
   "display_name": "Qudi",
   "language": "python",
   "name": "qudi"
  },
  "language_info": {
   "codemirror_mode": {
    "name": "ipython",
    "version": "3.6.5"
   },
   "file_extension": ".py",
   "mimetype": "text/x-python",
   "name": "python",
   "nbconvert_exporter": "python",
   "pygments_lexer": "ipython3",
   "version": "3.6.5"
  },
  "pycharm": {
   "stem_cell": {
    "cell_type": "raw",
    "metadata": {
     "collapsed": false
    },
    "source": []
   }
  },
  "toc": {
   "base_numbering": 1,
   "nav_menu": {},
   "number_sections": true,
   "sideBar": true,
   "skip_h1_title": false,
   "title_cell": "Table of Contents",
   "title_sidebar": "Contents",
   "toc_cell": false,
   "toc_position": {
    "height": "calc(100% - 180px)",
    "left": "10px",
    "top": "150px",
    "width": "341px"
   },
   "toc_section_display": true,
   "toc_window_display": true
  }
 },
 "nbformat": 4,
 "nbformat_minor": 1
}
