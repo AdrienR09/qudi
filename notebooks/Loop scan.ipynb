{
 "cells": [
  {
   "cell_type": "code",
   "execution_count": 1,
   "metadata": {
    "collapsed": true
   },
   "outputs": [],
   "source": [
    "import os\n",
    "import time"
   ]
  },
  {
   "cell_type": "code",
   "execution_count": 2,
   "metadata": {
    "collapsed": false
   },
   "outputs": [
    {
     "name": "stderr",
     "output_type": "stream",
     "text": [
      "Traceback (most recent call last):\n",
      "  File \"C:\\HYPERDIAMOND\\Software\\qudi\\logic\\jupyterkernel\\qzmqkernel.py\", line 795, in run_code\n",
      "    exec(code_obj, self.user_global_ns, self.user_ns)\n",
      "  File \"<ipython-input-2-d7c20b839c51>\", line 3, in <module>\n",
      "    for z in z_list:\n",
      "NameError: name 'z_list' is not defined\n"
     ]
    }
   ],
   "source": [
    "scanner.break_var=False\n",
    "\n",
    "for z in z_list:\n",
    "    if scanner.break_var:\n",
    "        break\n",
    "    time.sleep(0.1)\n",
    "    confocalgui._mw.action_scan_xy_start.trigger()\n",
    "    time.sleep(2)\n",
    "    while True:\n",
    "        if confocalgui._mw.action_scan_xy_start.isEnabled() == False:\n",
    "            time.sleep(1)\n",
    "        else:\n",
    "            confocalgui.save_xy_scan_data()\n",
    "            break\n",
    "    "
   ]
  },
  {
   "cell_type": "code",
   "execution_count": null,
   "metadata": {
    "collapsed": true
   },
   "outputs": [],
   "source": []
  }
 ],
 "metadata": {
  "kernelspec": {
   "display_name": "QuDi",
   "language": "python",
   "name": "qudi"
  },
  "language_info": {
   "codemirror_mode": {
    "name": "ipython",
    "version": "3.6.0"
   },
   "file_extension": ".py",
   "mimetype": "text/x-python",
   "name": "python",
   "nbconvert_exporter": "python",
   "pygments_lexer": "ipython3",
   "version": "3.6.0"
  }
 },
 "nbformat": 4,
 "nbformat_minor": 0
}
