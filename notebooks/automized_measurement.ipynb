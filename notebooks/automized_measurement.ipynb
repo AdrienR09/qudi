{
 "cells": [
  {
   "cell_type": "markdown",
   "metadata": {},
   "source": [
    "# Import"
   ]
  },
  {
   "cell_type": "code",
   "execution_count": 1,
   "metadata": {},
   "outputs": [],
   "source": [
    "from collections import OrderedDict"
   ]
  },
  {
   "cell_type": "code",
   "execution_count": 2,
   "metadata": {},
   "outputs": [
    {
     "data": {
      "text/plain": [
       "0"
      ]
     },
     "execution_count": 2,
     "metadata": {},
     "output_type": "execute_result"
    }
   ],
   "source": [
    "manager.startModule('logic', 'automizedpulsedlogic')"
   ]
  },
  {
   "cell_type": "markdown",
   "metadata": {},
   "source": [
    "## Rabi"
   ]
  },
  {
   "cell_type": "code",
   "execution_count": 18,
   "metadata": {},
   "outputs": [
    {
     "data": {
      "text/plain": [
       "True"
      ]
     },
     "execution_count": 18,
     "metadata": {},
     "output_type": "execute_result"
    }
   ],
   "source": [
    "qmeas=OrderedDict()\n",
    "qmeas['name'] = 'Rabi'\n",
    "qmeas['tau_start'] = 2e-9\n",
    "qmeas['tau_step'] = 2e-9\n",
    "qmeas['num_of_points'] = 15\n",
    "qmeas['microwave_frequency'] = 2.6e9\n",
    "qmeas['microwave_amplitude'] = 0.1\n",
    "\n",
    "qmeas['measurement_time'] = None\n",
    "qmeas['optimize_time'] = 15\n",
    "\n",
    "\n",
    "automizedpulsedlogic.do_experiment(experiment='rabi', qm_dict=qmeas, generate_new=True, save_tag='Rabi',load_tag='')"
   ]
  },
  {
   "cell_type": "code",
   "execution_count": null,
   "metadata": {},
   "outputs": [],
   "source": [
    "qmeas"
   ]
  },
  {
   "cell_type": "markdown",
   "metadata": {},
   "source": [
    "## Hahn"
   ]
  },
  {
   "cell_type": "code",
   "execution_count": null,
   "metadata": {},
   "outputs": [],
   "source": [
    "qmeas=OrderedDict()\n",
    "qmeas['name'] = 'Hahn_Echo'\n",
    "qmeas['rabi_period'] = 100e-9\n",
    "qmeas['microwave_frequency'] = 2.6e9\n",
    "qmeas['microwave_amplitude'] = 0.1\n",
    "qmeas['tau_start'] = 1e-6 \n",
    "qmeas['tau_step'] = .2e-6\n",
    "qmeas['num_of_points'] = 10\n",
    "qmeas['alternating'] = True\n",
    "\n",
    "\n",
    "qmeas['measurement_time'] = 15\n",
    "qmeas['optimize_time'] = None\n",
    "\n",
    "automizedpulsedlogic.do_experiment(experiment='hahnecho', qm_dict=qmeas, generate_new=True, save_tag='Hahn', load_tag='')"
   ]
  },
  {
   "cell_type": "markdown",
   "metadata": {},
   "source": [
    "## XY8"
   ]
  },
  {
   "cell_type": "code",
   "execution_count": null,
   "metadata": {},
   "outputs": [],
   "source": [
    "qmeas=OrderedDict()\n",
    "qmeas['name'] = 'xy8'\n",
    "qmeas['rabi_period'] = 100e-9\n",
    "qmeas['microwave_frequency'] = 2.6e9\n",
    "qmeas['microwave_amplitude'] = 0.1\n",
    "qmeas['start_tau'] = 900e-9\n",
    "qmeas['tau_step'] = 20e-9\n",
    "qmeas['num_of_points'] = 4\n",
    "qmeas['xy8_order'] = 6\n",
    "qmeas['alternating'] = True\n",
    "\n",
    "\n",
    "qmeas['measurement_time'] = 15\n",
    "qmeas['optimize_time'] = None\n",
    "\n",
    "\n",
    "automizedpulsedlogic.do_experiment(experiment='xy8_tau', qm_dict=qmeas, generate_new=True, save_tag='XY8', load_tag='')"
   ]
  },
  {
   "cell_type": "markdown",
   "metadata": {},
   "source": [
    "# Automized measurements "
   ]
  },
  {
   "cell_type": "code",
   "execution_count": 17,
   "metadata": {},
   "outputs": [],
   "source": [
    "# In order to stop the automized measurement insert pulsedmasterlogic.break_variable = True into manager\n",
    "qmeas=OrderedDict()\n",
    "# Either specify a list with points of interest or take all poi from the current ROI (use empty list)\n",
    "qmeas['list_pois'] = ['poi_20180927_1516_24_939396']\n",
    "#qmeas['list_pois'] = poimanagerlogic.get_all_pois()[31:-1]\n",
    "# Create another dictionary for the experiments and parameters\n",
    "autoexp=OrderedDict()\n",
    "# Then specify all necessary experiment and parameters\n",
    "\n",
    "#Experiment1\n",
    "experiment1 = 'Pulsed_ODMR'\n",
    "# create another dictionary for the parameters\n",
    "autoexp[experiment1]=OrderedDict()\n",
    "autoexp[experiment1]['type'] = 'pulsedodmr'\n",
    "autoexp[experiment1]['name'] = experiment1\n",
    "autoexp[experiment1]['rabi_period'] = 1000e-9\n",
    "autoexp[experiment1]['freq_start'] = 2.6e9 -25e6\n",
    "autoexp[experiment1]['freq_step'] = 1e6\n",
    "autoexp[experiment1]['num_of_points'] = 50\n",
    "autoexp[experiment1]['microwave_amplitude'] = 0.1/15\n",
    "autoexp[experiment1]['measurement_time'] = 20\n",
    "autoexp[experiment1]['optimize_time'] = None\n",
    "autoexp[experiment1]['freq_optimize_time'] = None\n",
    "autoexp[experiment1]['generate_new'] = False\n",
    "# if empty  or commented out, no fit is used\n",
    "autoexp[experiment1]['fit_experiment'] = 'lor_neg'\n",
    "autoexp[experiment1]['fit_parameter'] = 'Position'\n",
    "autoexp[experiment1]['update_parameters'] = {'Rabi': 'microwave_frequency', 'xy8': 'microwave_frequency', 'xy8_2': 'microwave_frequency'}\n",
    "\n",
    "\n",
    "#Experiment2\n",
    "experiment2 = 'Rabi'\n",
    "# create another dictionary for the parameters\n",
    "autoexp[experiment2]=OrderedDict()\n",
    "autoexp[experiment2]['type'] = 'rabi'\n",
    "autoexp[experiment2]['name'] = experiment2\n",
    "autoexp[experiment2]['tau_start'] = 1e-9\n",
    "autoexp[experiment2]['tau_step'] = 1e-9\n",
    "autoexp[experiment2]['num_of_points'] = 50\n",
    "autoexp[experiment2]['microwave_frequency'] = 2.65e9\n",
    "autoexp[experiment2]['microwave_amplitude'] = 0.1\n",
    "autoexp[experiment2]['measurement_time'] = 20\n",
    "autoexp[experiment2]['optimize_time'] = None\n",
    "autoexp[experiment2]['freq_optimize_time'] = None\n",
    "autoexp[experiment2]['generate_new'] = True\n",
    "# if empty  or commented out, no fit is used\n",
    "autoexp[experiment2]['fit_experiment'] = 'sine'\n",
    "autoexp[experiment2]['fit_parameter'] = 'Period'\n",
    "autoexp[experiment2]['update_parameters'] = {'xy8': 'rabi_period', 'xy8_2': 'rabi_period'}\n",
    "\n",
    "\n",
    "\n",
    "#Experiment3\n",
    "experiment3 = 'xy8'\n",
    "# create another dictionary for the parameters\n",
    "autoexp[experiment3]=OrderedDict()\n",
    "autoexp[experiment3]['type'] = 'xy8_tau'\n",
    "autoexp[experiment3]['name'] = experiment3 \n",
    "autoexp[experiment3]['rabi_period'] = 100e-9\n",
    "autoexp[experiment3]['microwave_frequency'] = 2.6e9\n",
    "autoexp[experiment3]['microwave_amplitude'] = 0.1\n",
    "autoexp[experiment3]['start_tau'] = 830e-9 \n",
    "autoexp[experiment3]['tau_step'] = 10e-9\n",
    "autoexp[experiment3]['num_of_points'] = 40\n",
    "autoexp[experiment3]['xy8_order'] = 6\n",
    "autoexp[experiment3]['alternating'] = True\n",
    "autoexp[experiment3]['measurement_time'] = 600\n",
    "autoexp[experiment3]['optimize_time'] = None\n",
    "autoexp[experiment3]['freq_optimize_time'] = None\n",
    "autoexp[experiment3]['generate_new'] = True\n",
    "\n",
    "\n",
    "#Experiment4\n",
    "experiment4 = 'xy8_2'\n",
    "# create another dictionary for the parameters\n",
    "autoexp[experiment4]=OrderedDict()\n",
    "autoexp[experiment4]['type'] = 'xy8_tau'\n",
    "autoexp[experiment4]['name'] = experiment4 \n",
    "autoexp[experiment4]['rabi_period'] = 100e-9\n",
    "autoexp[experiment4]['microwave_frequency'] = 2.6e9\n",
    "autoexp[experiment4]['microwave_amplitude'] = 0.1\n",
    "autoexp[experiment4]['start_tau'] = 930e-9 \n",
    "autoexp[experiment4]['tau_step'] = 5e-9\n",
    "autoexp[experiment4]['num_of_points'] = 40\n",
    "autoexp[experiment4]['xy8_order'] = 12\n",
    "autoexp[experiment4]['alternating'] = True\n",
    "autoexp[experiment4]['measurement_time'] = 1200\n",
    "autoexp[experiment4]['optimize_time'] = None\n",
    "autoexp[experiment4]['freq_optimize_time'] = None\n",
    "autoexp[experiment4]['generate_new'] = True\n",
    "\n",
    "# optional parameters \n",
    "qmeas['optimize_between_experiments'] = False\n",
    "\n",
    "\n",
    "automizedpulsedlogic.do_automized_measurements(qm_dict=qmeas, autoexp=autoexp)"
   ]
  },
  {
   "cell_type": "code",
   "execution_count": 15,
   "metadata": {},
   "outputs": [
    {
     "name": "stdout",
     "output_type": "stream",
     "text": [
      "xy8\n",
      "rabi_period\n",
      "xy8_2\n",
      "rabi_period\n"
     ]
    }
   ],
   "source": [
    "experiment = 'Rabi'\n",
    "for key in autoexp[experiment]['update_parameters']:\n",
    "    print(key)\n",
    "    print(autoexp[experiment]['update_parameters'][key])\n",
    "   "
   ]
  },
  {
   "cell_type": "code",
   "execution_count": null,
   "metadata": {},
   "outputs": [],
   "source": []
  }
 ],
 "metadata": {
  "celltoolbar": "Raw Cell Format",
  "kernelspec": {
   "display_name": "Qudi",
   "language": "python",
   "name": "qudi"
  },
  "language_info": {
   "codemirror_mode": {
    "name": "ipython",
    "version": "3.6.5"
   },
   "file_extension": ".py",
   "mimetype": "text/x-python",
   "name": "python",
   "nbconvert_exporter": "python",
   "pygments_lexer": "ipython3",
   "version": "3.6.5"
  }
 },
 "nbformat": 4,
 "nbformat_minor": 1
}
