{
 "cells": [
  {
   "cell_type": "markdown",
   "metadata": {},
   "source": [
    "# Import"
   ]
  },
  {
   "cell_type": "code",
   "execution_count": 1,
   "metadata": {},
   "outputs": [],
   "source": [
    "exec(open(\"/Users/QuantumOptics/qudi/logic/script_logic_essentials.py\").read())\n",
    "exec(open(\"/Users/QuantumOptics/qudi/logic/script_logic_camera.py\").read())"
   ]
  },
  {
   "cell_type": "code",
   "execution_count": 2,
   "metadata": {},
   "outputs": [],
   "source": [
    "memory_dict=OrderedDict()\n"
   ]
  },
  {
   "cell_type": "markdown",
   "metadata": {},
   "source": [
    "# Common parameters"
   ]
  },
  {
   "cell_type": "code",
   "execution_count": null,
   "metadata": {},
   "outputs": [],
   "source": [
    "common_rabi_period = 575e-9 #1280e-9 \n",
    "#common_rabi_period = 9.79e-9\n",
    "common_mw_freq = 3.85892e9\n",
    "common_mw_amp = 0.25\n",
    "\n",
    "\n",
    "common_refocus_time = 300"
   ]
  },
  {
   "cell_type": "markdown",
   "metadata": {},
   "source": [
    "# Frequency Optimization parameters"
   ]
  },
  {
   "cell_type": "code",
   "execution_count": null,
   "metadata": {},
   "outputs": [],
   "source": [
    "optimize_freq_dict=OrderedDict()\n",
    "optimize_freq_dict['mw_optimization_method'] = 'pulsedodmr'\n",
    "optimize_freq_dict['optimize_generate_new'] = False\n",
    "optimize_freq_dict['save_tag'] = 'optimize_frequency'\n",
    "optimize_freq_dict['optimize_fit_method'] = 'N15'\n",
    "optimize_freq_dict['parameters2update'] = {'center': 'microwave_frequency'}\n",
    "\n",
    "optimize_freq_dict['name'] = 'Pulsed_ODMR'\n",
    "optimize_freq_dict['rabi_period'] = 1800e-9\n",
    "optimize_freq_dict['freq_start'] = 4.127e9\n",
    "optimize_freq_dict['freq_step'] = 0.2e6\n",
    "optimize_freq_dict['num_of_points'] = 50\n",
    "optimize_freq_dict['microwave_amplitude'] = common_mw_amp/15\n",
    "optimize_freq_dict['meas_type'] = conventional_measurement\n",
    "optimize_freq_dict['meas_info'] = add_conventional_information\n",
    "\n",
    "optimize_freq_dict['measurement_time'] = 30\n",
    "optimize_freq_dict['optimize_time'] = None\n",
    "optimize_freq_dict['optimize_generate_new'] = True\n"
   ]
  },
  {
   "cell_type": "code",
   "execution_count": null,
   "metadata": {},
   "outputs": [],
   "source": [
    "fit_result = optimize_frequency(optimize_freq_dict)\n",
    "fit_result.best_values"
   ]
  },
  {
   "cell_type": "markdown",
   "metadata": {},
   "source": [
    "# Laser options"
   ]
  },
  {
   "cell_type": "markdown",
   "metadata": {},
   "source": [
    "## Optimize position"
   ]
  },
  {
   "cell_type": "code",
   "execution_count": null,
   "metadata": {
    "scrolled": true
   },
   "outputs": [],
   "source": [
    "optimize_position()"
   ]
  },
  {
   "cell_type": "markdown",
   "metadata": {},
   "source": [
    "## Laser On"
   ]
  },
  {
   "cell_type": "code",
   "execution_count": null,
   "metadata": {},
   "outputs": [],
   "source": [
    "laser_on(pulser_on = False)"
   ]
  },
  {
   "cell_type": "markdown",
   "metadata": {},
   "source": [
    "## Laser Off"
   ]
  },
  {
   "cell_type": "code",
   "execution_count": null,
   "metadata": {},
   "outputs": [],
   "source": [
    "laser_off(pulser_on = False)"
   ]
  },
  {
   "cell_type": "markdown",
   "metadata": {},
   "source": [
    "# Standard"
   ]
  },
  {
   "cell_type": "markdown",
   "metadata": {},
   "source": [
    "## Rabi"
   ]
  },
  {
   "cell_type": "code",
   "execution_count": 2,
   "metadata": {},
   "outputs": [
    {
     "name": "stderr",
     "output_type": "stream",
     "text": [
      "Traceback (most recent call last):\n",
      "  File \"C:\\Users\\QuantumOptics\\qudi\\logic\\jupyterkernel\\qzmqkernel.py\", line 795, in run_code\n",
      "    exec(code_obj, self.user_global_ns, self.user_ns)\n",
      "  File \"<ipython-input-2-6414262d4420>\", line 25, in <module>\n",
      "    generate_new=True, save_tag='Rabi',load_tag='')\n",
      "  File \"<string>\", line 87, in do_experiment\n",
      "  File \"<string>\", line 265, in perform_measurement\n",
      "  File \"<string>\", line 39, in basic_camera_measurement\n",
      "NameError: name 'user_terminated' is not defined\n"
     ]
    }
   ],
   "source": [
    "qmeas=OrderedDict()\n",
    "qmeas['name'] = 'Rabi'\n",
    "qmeas['tau_start'] = 4e-9\n",
    "qmeas['tau_step'] = 4e-9\n",
    "qmeas['num_of_points'] = 6\n",
    "qmeas['microwave_frequency'] = 3e9\n",
    "qmeas['microwave_amplitude'] = 0.1\n",
    "\n",
    "qmeas['laser_duration'] = 1e-6\n",
    "qmeas['idle_duration'] = 1e-6\n",
    "qmeas['trigger_duration'] = 1e-6\n",
    "\n",
    "qmeas['exposure_time'] = 10e-3\n",
    "\n",
    "#qmeas['measurement_time'] = None\n",
    "#qmeas['optimize_time'] = None\n",
    "#qmeas['freq_optimize_time'] = None\n",
    "#qmeas['fit_experiment'] = 'cosine'\n",
    "# camera adjustments\n",
    "qmeas['repetitions'] = 5\n",
    "#qmeas['analysis_interval'] = 3\n",
    "\n",
    "\n",
    "do_experiment(experiment='time_balanced_ssr_rabi', qm_dict=qmeas, meas_type=basic_camera_measurement, meas_info=add_camera_info,\n",
    "              generate_new=True, save_tag='Rabi',load_tag='')"
   ]
  },
  {
   "cell_type": "code",
   "execution_count": null,
   "metadata": {},
   "outputs": [],
   "source": [
    "qmeas=OrderedDict()\n",
    "qmeas['name'] = 'Rabi'\n",
    "qmeas['tau_start'] = 100e-9\n",
    "qmeas['tau_step'] = 100e-9\n",
    "qmeas['num_of_points'] = 50\n",
    "qmeas['microwave_frequency'] = common_mw_freq #+ 3.03e6\n",
    "qmeas['microwave_amplitude'] = common_mw_amp/45\n",
    "\n",
    "qmeas['measurement_time'] = None\n",
    "qmeas['optimize_time'] = None\n",
    "qmeas['freq_optimize_time'] = None\n",
    "qmeas['fit_experiment'] = 'cosine'\n",
    "\n",
    "do_experiment(experiment='rabi', qm_dict=qmeas, meas_type=conventional_measurement, meas_info=add_conventional_information,\n",
    "              generate_new=True, save_tag='Rabi_'+str(round(qmeas['microwave_amplitude']*1000))+'mV',load_tag='')"
   ]
  },
  {
   "cell_type": "code",
   "execution_count": null,
   "metadata": {},
   "outputs": [],
   "source": [
    "qmeas=OrderedDict()\n",
    "qmeas['name'] = 'Rabi'\n",
    "qmeas['tau_start'] = 20e-9\n",
    "qmeas['tau_step'] = 20e-9\n",
    "qmeas['num_of_points'] = 50\n",
    "qmeas['microwave_frequency'] = common_mw_freq + 3.03e6\n",
    "qmeas['microwave_amplitude'] = 0.25/6.5\n",
    "\n",
    "qmeas['measurement_time'] = None\n",
    "qmeas['optimize_time'] = None\n",
    "qmeas['freq_optimize_time'] = None\n",
    "qmeas['fit_experiment'] = 'cosine'\n",
    "\n",
    "do_experiment(experiment='rabi', qm_dict=qmeas, meas_type=conventional_measurement, meas_info=add_conventional_information,\n",
    "              generate_new=True, save_tag='Rabi_'+str(round(qmeas['microwave_amplitude']*1000))+'mV',load_tag='')"
   ]
  },
  {
   "cell_type": "markdown",
   "metadata": {},
   "source": [
    "## Pulsed ODMR"
   ]
  },
  {
   "cell_type": "code",
   "execution_count": null,
   "metadata": {
    "scrolled": true
   },
   "outputs": [],
   "source": [
    "qmeas=OrderedDict()\n",
    "qmeas['name'] = 'Pulsed_ODMR'\n",
    "qmeas['rabi_period'] = 74e-9\n",
    "qmeas['freq_start'] = 3.6e9  #common_mw_freq -200e6\n",
    "qmeas['freq_step'] = 3e6\n",
    "qmeas['num_of_points'] = 100\n",
    "qmeas['microwave_amplitude'] = common_mw_amp/2\n",
    "\n",
    "qmeas['measurement_time'] = 1500 \n",
    "qmeas['optimize_time'] = None\n",
    "#qmeas['freq_optimization_time'] = None\n",
    "#qmeas['analysis_interval'] = 3\n",
    "qmeas['fit_experiment'] = 'lor_neg'\n",
    "\n",
    "up_to = (qmeas['freq_start'] + qmeas['freq_step'] * qmeas['num_of_points'])\n",
    "\n",
    "do_experiment(experiment='pulsedodmr', qm_dict=qmeas, meas_type=conventional_measurement, meas_info=add_conventional_information, \n",
    "              generate_new=True, save_tag='PulsedOdmr_'+str(round(qmeas['freq_start']))+'_'+str(up_to),load_tag='')"
   ]
  },
  {
   "cell_type": "code",
   "execution_count": null,
   "metadata": {},
   "outputs": [],
   "source": [
    "qmeas=OrderedDict()\n",
    "qmeas['name'] = 'Pulsed_ODMR'\n",
    "qmeas['rabi_period'] = 3200e-9\n",
    "qmeas['freq_start'] = 3.85e9\n",
    "qmeas['freq_step'] = 0.2e6\n",
    "qmeas['num_of_points'] = 100\n",
    "qmeas['microwave_amplitude'] = common_mw_amp/45\n",
    "\n",
    "qmeas['measurement_time'] = 1500\n",
    "qmeas['optimize_time'] = None\n",
    "qmeas['fit_experiment'] = 'N15'\n",
    "\n",
    "up_to = (qmeas['freq_start'] + qmeas['freq_step'] * qmeas['num_of_points'])\n",
    "\n",
    "do_experiment(experiment='pulsedodmr', qm_dict=qmeas, meas_type=conventional_measurement, meas_info=add_conventional_information, \n",
    "              generate_new=True, save_tag='PulsedOdmr_'+str(round(qmeas['freq_start']))+'_'+str(up_to),load_tag='')"
   ]
  },
  {
   "cell_type": "code",
   "execution_count": null,
   "metadata": {},
   "outputs": [],
   "source": [
    "qmeas=OrderedDict()\n",
    "qmeas['name'] = 'Pulsed_ODMR'\n",
    "qmeas['rabi_period'] = 3.2e-6\n",
    "qmeas['freq_start'] = 9.69e9\n",
    "qmeas['freq_step'] = 0.2e6\n",
    "qmeas['num_of_points'] = 400\n",
    "qmeas['microwave_amplitude'] = common_mw_amp/1\n",
    "\n",
    "qmeas['measurement_time'] = 1500\n",
    "qmeas['optimize_time'] = None\n",
    "qmeas['fit_experiment'] = 'N15'\n",
    "\n",
    "up_to = (qmeas['freq_start'] + qmeas['freq_step'] * qmeas['num_of_points'])\n",
    "\n",
    "do_experiment(experiment='pulsedodmr', qm_dict=qmeas, meas_type=conventional_measurement, meas_info=add_conventional_information, \n",
    "              generate_new=True, save_tag='PulsedOdmr_'+str(round(qmeas['freq_start']))+'_'+str(up_to),load_tag='')"
   ]
  },
  {
   "cell_type": "markdown",
   "metadata": {},
   "source": [
    "## Ramsey "
   ]
  },
  {
   "cell_type": "code",
   "execution_count": null,
   "metadata": {},
   "outputs": [],
   "source": [
    "qmeas=OrderedDict()\n",
    "qmeas['name'] = 'Ramsey'\n",
    "qmeas['rabi_period'] = common_rabi_period\n",
    "qmeas['microwave_frequency'] = common_mw_freq-10e3\n",
    "qmeas['microwave_amplitude'] = common_mw_amp/1\n",
    "qmeas['tau_start'] = 10e-9\n",
    "qmeas['tau_step'] = 200e-9\n",
    "qmeas['num_of_points'] = 100\n",
    "qmeas['alternating'] = False\n",
    "\n",
    "qmeas['from_list'] = False\n",
    "qmeas['tau_list'] = np.linspace(100,100*50,50) * 1e-9\n",
    "\n",
    "qmeas['measurement_time'] = 1500\n",
    "qmeas['optimize_time'] = None\n",
    "#qmeas['freq_optimization_time'] = None\n",
    "#qmeas['analysis_interval'] = 3\n",
    "\n",
    "\n",
    "\n",
    "if not qmeas['from_list']:\n",
    "    do_experiment(experiment='ramsey', qm_dict=qmeas, meas_type=conventional_measurement, meas_info=add_conventional_information\n",
    "                  , generate_new=True, save_tag='Ramsey',load_tag='')\n",
    "else:\n",
    "    do_experiment(experiment='ramsey_from_list', qm_dict=qmeas, meas_type=conventional_measurement,\n",
    "                  meas_info=add_conventional_information,generate_new=True, \n",
    "              save_tag='Ramsey_for_list',load_tag='')\n"
   ]
  },
  {
   "cell_type": "markdown",
   "metadata": {},
   "source": [
    "## Hahn Echo"
   ]
  },
  {
   "cell_type": "code",
   "execution_count": null,
   "metadata": {},
   "outputs": [],
   "source": [
    "qmeas=OrderedDict()\n",
    "qmeas['name'] = 'Hahn_Echo'\n",
    "qmeas['rabi_period'] = common_rabi_period\n",
    "qmeas['microwave_frequency'] = common_mw_freq\n",
    "qmeas['microwave_amplitude'] = common_mw_amp/1\n",
    "qmeas['tau_start'] = 1e-6 \n",
    "qmeas['tau_step'] = 1e-6\n",
    "qmeas['num_of_points'] = 50\n",
    "\n",
    "qmeas['exp_incr'] = True\n",
    "qmeas['tau_end'] = 500e-6\n",
    "\n",
    "qmeas['alternating'] = True\n",
    "\n",
    "\n",
    "qmeas['measurement_time'] = 1500\n",
    "qmeas['optimize_time'] = None\n",
    "#qmeas['freq_optimization_time'] = None\n",
    "#qmeas['analysis_interval'] = 3\n",
    "\n",
    "\n",
    "\n",
    "if qmeas['exp_incr']:\n",
    "    do_experiment(experiment='hahnecho_exp_s3', qm_dict=qmeas, meas_type=conventional_measurement, meas_info=add_conventional_information,\n",
    "              generate_new=True, save_tag='Hahn_'+str(int(qmeas['tau_end']*1e6))+'micros',load_tag='')\n",
    "else:\n",
    "    up_to = int((qmeas['tau_start'] + qmeas['tau_step'] * qmeas['num_of_points']) * 1e6)\n",
    "    do_experiment(experiment='hahnecho', qm_dict=qmeas, meas_type=conventional_measurement, meas_info=add_conventional_information,\n",
    "                  generate_new=True, save_tag='Hahn_'+str(up_to)+'micros',load_tag='')"
   ]
  },
  {
   "cell_type": "markdown",
   "metadata": {},
   "source": [
    "## T1"
   ]
  },
  {
   "cell_type": "code",
   "execution_count": null,
   "metadata": {},
   "outputs": [],
   "source": [
    "qmeas=OrderedDict()\n",
    "qmeas['name'] = 'T1'\n",
    "qmeas['rabi_period'] = 570e-9\n",
    "qmeas['microwave_frequency'] = common_mw_freq\n",
    "qmeas['microwave_amplitude'] = common_mw_amp/11\n",
    "qmeas['tau_start'] = 0e-6 \n",
    "qmeas['tau_step'] = 2e-6\n",
    "qmeas['tau_end'] = 10e-6\n",
    "qmeas['num_of_points'] = 20\n",
    "qmeas['exp_incr'] = False\n",
    "qmeas['alternating'] = True\n",
    "\n",
    "\n",
    "qmeas['measurement_time'] = 1500\n",
    "qmeas['optimize_time'] = None\n",
    "#qmeas['freq_optimization_time'] = None\n",
    "#qmeas['analysis_interval'] = 3\n",
    "\n",
    "\n",
    "#FIXME: Add caller for exponentional increase\n",
    "do_experiment(experiment='t1', qm_dict=qmeas, meas_type=conventional_measurement, meas_info=add_conventional_information,\n",
    "              generate_new=True, save_tag='T1',load_tag='')"
   ]
  },
  {
   "cell_type": "markdown",
   "metadata": {},
   "source": [
    "# Standard sensing"
   ]
  },
  {
   "cell_type": "markdown",
   "metadata": {},
   "source": [
    "## XY8"
   ]
  },
  {
   "cell_type": "code",
   "execution_count": null,
   "metadata": {},
   "outputs": [],
   "source": [
    "qmeas=OrderedDict()\n",
    "qmeas['name'] = 'xy8'\n",
    "qmeas['rabi_period'] = common_rabi_period \n",
    "qmeas['microwave_frequency'] = common_mw_freq\n",
    "qmeas['microwave_amplitude'] = common_mw_amp/1\n",
    "qmeas['tau_start'] = 183e-9\n",
    "qmeas['tau_step'] = .15e-9\n",
    "qmeas['num_of_points'] = 50\n",
    "qmeas['xy8_order'] = 12\n",
    "qmeas['alternating'] = False\n",
    "qmeas['initial_pulse'] = False\n",
    "qmeas['lasty'] = False\n",
    "\n",
    "\n",
    "qmeas['measurement_time'] = 200\n",
    "qmeas['optimize_time'] = 500\n",
    "qmeas['freq_optimization_time'] = None\n",
    "#qmeas['analysis_interval'] = 3\n",
    "\n",
    "#order_array = np.linspace(4,15,12).astype(int)\n",
    "#pulsedmasterlogic.break_var = False\n",
    "#\n",
    "#for order in order_array:\n",
    "#    if pulsedmasterlogic.break_var: break\n",
    "#    qmeas['xy8_order'] = int(order)\n",
    "#    qmeas['name'] = 'xy8_' + str(qmeas['xy8_order'])\n",
    "#    width = 80e-9/qmeas['xy8_order']\n",
    "#    qmeas['tau_start'] = 187e-9 - width/2\n",
    "#    qmeas['tau_step'] = width/50\n",
    "#\n",
    "do_experiment(experiment='xy8_tau', qm_dict=qmeas, meas_type=conventional_measurement, meas_info=add_conventional_information,\n",
    "              generate_new=True, save_tag='XY8_'+str(qmeas['xy8_order']),load_tag='')"
   ]
  },
  {
   "cell_type": "code",
   "execution_count": null,
   "metadata": {},
   "outputs": [],
   "source": [
    "qmeas = customise_setup(qmeas)\n"
   ]
  },
  {
   "cell_type": "code",
   "execution_count": null,
   "metadata": {},
   "outputs": [],
   "source": [
    "qm_dict = qmeas"
   ]
  },
  {
   "cell_type": "code",
   "execution_count": null,
   "metadata": {},
   "outputs": [],
   "source": [
    "pulsedmasterlogic.delete_block_ensemble(qm_dict['name'])"
   ]
  },
  {
   "cell_type": "code",
   "execution_count": null,
   "metadata": {},
   "outputs": [],
   "source": [
    "pulsedmasterlogic.generate_predefined_sequence('xy8_tau', qm_dict.copy())"
   ]
  },
  {
   "cell_type": "code",
   "execution_count": null,
   "metadata": {},
   "outputs": [],
   "source": [
    "qm_dict['name'] not in pulsedmasterlogic.saved_pulse_block_ensembles"
   ]
  },
  {
   "cell_type": "code",
   "execution_count": null,
   "metadata": {},
   "outputs": [],
   "source": [
    "pulsedmasterlogic.sample_ensemble(qm_dict['name'], True)"
   ]
  },
  {
   "cell_type": "code",
   "execution_count": null,
   "metadata": {},
   "outputs": [],
   "source": [
    "pulsedmasterlogic.status_dict['sampload_busy']"
   ]
  },
  {
   "cell_type": "markdown",
   "metadata": {},
   "source": [
    "## CPMG"
   ]
  },
  {
   "cell_type": "code",
   "execution_count": null,
   "metadata": {},
   "outputs": [],
   "source": [
    "qmeas=OrderedDict()\n",
    "qmeas['name'] = 'CPMG'\n",
    "qmeas['rabi_period'] = common_rabi_period \n",
    "qmeas['microwave_frequency'] = common_mw_freq\n",
    "qmeas['microwave_amplitude'] = common_mw_amp/1\n",
    "qmeas['tau_start'] = 10e-9\n",
    "qmeas['tau_step'] = 10e-9\n",
    "qmeas['num_of_points'] = 50\n",
    "qmeas['cpmg_order'] = 1\n",
    "qmeas['alternating'] = True\n",
    "\n",
    "qmeas['measurement_time'] = 200\n",
    "qmeas['optimize_time'] = 500\n",
    "#qmeas['freq_optimization_time'] = None\n",
    "#qmeas['analysis_interval'] = 3\n",
    "\n",
    "order_array = np.linspace(2,8,4).astype(int)\n",
    "pulsedmasterlogic.break_var = False\n",
    "\n",
    "for order in order_array:\n",
    "    if pulsedmasterlogic.break_var: break\n",
    "    qmeas['cpmg_order'] = int(order)\n",
    "    qmeas['name'] = 'CPMG_' + str(qmeas['cpmg_order'])\n",
    "    width = 380e-9/qmeas['cpmg_order']\n",
    "    qmeas['tau_start'] = 200e-9 - width/2\n",
    "    qmeas['tau_step'] = width/50\n",
    "\n",
    "    do_experiment(experiment='cpmg_tau', qm_dict=qmeas, meas_type=conventional_measurement, meas_info=add_conventional_information,\n",
    "              generate_new=True, save_tag='CPMG_'+str(qmeas['cpmg_order']),load_tag='')"
   ]
  },
  {
   "cell_type": "markdown",
   "metadata": {},
   "source": [
    "## CPMG - N - sweep"
   ]
  },
  {
   "cell_type": "code",
   "execution_count": null,
   "metadata": {},
   "outputs": [],
   "source": [
    "qmeas=OrderedDict()\n",
    "qmeas['name'] = 'CPMG-N_sweep'\n",
    "qmeas['rabi_period'] = common_rabi_period \n",
    "qmeas['microwave_frequency'] = common_mw_freq\n",
    "qmeas['microwave_amplitude'] = common_mw_amp/1\n",
    "qmeas['tau'] = 200e-9\n",
    "qmeas['n_start'] = 1\n",
    "qmeas['n_step'] = 2\n",
    "qmeas['num_of_points'] = 20\n",
    "qmeas['alternating'] = True\n",
    "\n",
    "qmeas['measurement_time'] = 15\n",
    "qmeas['optimize_time'] = None\n",
    "#qmeas['freq_optimization_time'] = None\n",
    "#qmeas['analysis_interval'] = 3\n",
    "\n",
    "up_to = qmeas['n_start']+ qmeas['num_of_points']*qmeas['n_step']\n",
    "\n",
    "do_experiment(experiment='cpmg_nsweep', qm_dict=qmeas, meas_type=conventional_measurement, meas_info=add_conventional_information, \n",
    "              generate_new=True, \n",
    "              save_tag='CPMG_'+str(qmeas['n_start'])+'_up_to_'+str(up_to),load_tag='')"
   ]
  },
  {
   "cell_type": "markdown",
   "metadata": {},
   "source": [
    "## KDD"
   ]
  },
  {
   "cell_type": "code",
   "execution_count": null,
   "metadata": {},
   "outputs": [],
   "source": [
    "qmeas=OrderedDict()\n",
    "qmeas['name'] = 'KDD'\n",
    "qmeas['rabi_period'] = common_rabi_period \n",
    "qmeas['microwave_frequency'] = common_mw_freq\n",
    "qmeas['microwave_amplitude'] = common_mw_amp/1\n",
    "\n",
    "qmeas['tau_start'] = 200e-9\n",
    "qmeas['tau_step'] = 50e-9\n",
    "qmeas['num_of_points'] = 20\n",
    "qmeas['kdd_order'] = 2\n",
    "qmeas['alternating'] = False\n",
    "\n",
    "\n",
    "qmeas['measurement_time'] = 15\n",
    "qmeas['optimize_time'] = None\n",
    "#qmeas['freq_optimization_time'] = None\n",
    "#qmeas['analysis_interval'] = 3\n",
    "\n",
    "\n",
    "do_experiment(experiment='kdd_tau', qm_dict=qmeas, meas_type=conventional_measurement, meas_info=add_conventional_information, \n",
    "              generate_new=True, \n",
    "              save_tag='KDD_'+str(qmeas['kdd_order']),load_tag='')"
   ]
  },
  {
   "cell_type": "code",
   "execution_count": null,
   "metadata": {},
   "outputs": [],
   "source": [
    "sequencegeneratorlogic.generate_predefined_sequence('kdd_tau', qmeas)"
   ]
  },
  {
   "cell_type": "code",
   "execution_count": null,
   "metadata": {},
   "outputs": [],
   "source": [
    "generate_sequence('ssr_nuclear_rabi', {})"
   ]
  },
  {
   "cell_type": "markdown",
   "metadata": {},
   "source": [
    "# Automized measurements "
   ]
  },
  {
   "cell_type": "code",
   "execution_count": null,
   "metadata": {},
   "outputs": [],
   "source": [
    "# In order to stop the automized measurement insert pulsedmasterlogic.break_variable = True into manager\n",
    "qmeas=OrderedDict()\n",
    "# Either specify a list with points of interest or take all poi from the current ROI (use empty list)\n",
    "#qmeas['list_pois'] = []\n",
    "qmeas['list_pois'] = poimanagerlogic.get_all_pois()[31:-1]\n",
    "# Create another dictionary for the experiments and parameters\n",
    "autoexp=OrderedDict()\n",
    "# Then specify all necessary experiment and parameters\n",
    "\n",
    "#Experiment1\n",
    "experiment1 = 'Pulsed_ODMR'\n",
    "# create another dictionary for the parameters\n",
    "autoexp[experiment1]=OrderedDict()\n",
    "autoexp[experiment1]['type'] = 'pulsed_odmr'\n",
    "autoexp[experiment1]['name'] = experiment1\n",
    "autoexp[experiment1]['rabi_period'] = common_rabi_period*10\n",
    "autoexp[experiment1]['freq_start'] = common_mw_freq -25e6\n",
    "autoexp[experiment1]['freq_step'] = 1e6\n",
    "autoexp[experiment1]['num_of_points'] = 50\n",
    "autoexp[experiment1]['microwave_amplitude'] = common_mw_amp/15\n",
    "autoexp[experiment1]['measurement_time'] = 30\n",
    "autoexp[experiment1]['optimize_time'] = None\n",
    "autoexp[experiment1]['freq_optimize_time'] = None\n",
    "autoexp[experiment1]['generate_new'] = False\n",
    "autoexp[experiment1]['meas_type'] = conventional_measurement\n",
    "autoexp[experiment1]['meas_info'] = add_conventional_information\n",
    "# if empty  or commented out, no fit is used\n",
    "autoexp[experiment1]['fit_experiment'] = 'lor_neg'\n",
    "autoexp[experiment1]['fit_parameter'] = 'Position'\n",
    "autoexp[experiment1]['update_parameters'] = {'Rabi': 'microwave_frequency', 'xy8': 'microwave_frequency', 'xy8_2': 'microwave_frequency'}\n",
    "\n",
    "\n",
    "#Experiment2\n",
    "experiment2 = 'Rabi'\n",
    "# create another dictionary for the parameters\n",
    "autoexp[experiment2]=OrderedDict()\n",
    "autoexp[experiment2]['type'] = 'rabi'\n",
    "autoexp[experiment2]['name'] = experiment2 \n",
    "autoexp[experiment2]['tau_start'] = 1e-9\n",
    "autoexp[experiment2]['tau_step'] = 1e-9\n",
    "autoexp[experiment2]['num_of_points'] = 50\n",
    "autoexp[experiment2]['microwave_frequency'] = common_mw_freq\n",
    "autoexp[experiment2]['microwave_amplitude'] = common_mw_amp/1\n",
    "autoexp[experiment2]['measurement_time'] = 30\n",
    "autoexp[experiment2]['optimize_time'] = None\n",
    "autoexp[experiment2]['freq_optimize_time'] = None\n",
    "autoexp[experiment2]['generate_new'] = True\n",
    "autoexp[experiment2]['meas_type'] = conventional_measurement\n",
    "autoexp[experiment2]['meas_info'] = add_conventional_information\n",
    "# if empty  or commented out, no fit is used\n",
    "autoexp[experiment2]['fit_experiment'] = 'sine'\n",
    "autoexp[experiment2]['fit_parameter'] = 'Period'\n",
    "autoexp[experiment2]['update_parameters'] = {'xy8': 'rabi_period', 'xy8_2': 'rabi_period'}\n",
    "\n",
    "\n",
    "\n",
    "#Experiment3\n",
    "experiment3 = 'xy8'\n",
    "# create another dictionary for the parameters\n",
    "autoexp[experiment3]=OrderedDict()\n",
    "autoexp[experiment3]['type'] = 'xy8_tau'\n",
    "autoexp[experiment3]['name'] = experiment3 \n",
    "autoexp[experiment3]['rabi_period'] = common_rabi_period \n",
    "autoexp[experiment3]['microwave_frequency'] = common_mw_freq \n",
    "autoexp[experiment3]['microwave_amplitude'] = common_mw_amp\n",
    "autoexp[experiment3]['start_tau'] = 830e-9 \n",
    "autoexp[experiment3]['tau_step'] = 10e-9\n",
    "autoexp[experiment3]['num_of_points'] = 40\n",
    "autoexp[experiment3]['xy8_order'] = 6\n",
    "autoexp[experiment3]['alternating'] = True\n",
    "autoexp[experiment3]['initial_pulse'] = False\n",
    "autoexp[experiment3]['measurement_time'] = 600\n",
    "autoexp[experiment3]['optimize_time'] = None\n",
    "autoexp[experiment3]['freq_optimize_time'] = None\n",
    "autoexp[experiment3]['generate_new'] = True\n",
    "autoexp[experiment3]['meas_type'] = conventional_measurement\n",
    "autoexp[experiment2]['meas_info'] = add_conventional_information\n",
    "\n",
    "\n",
    "#Experiment4\n",
    "experiment4 = 'xy8_2'\n",
    "# create another dictionary for the parameters\n",
    "autoexp[experiment4]=OrderedDict()\n",
    "autoexp[experiment4]['type'] = 'xy8_tau'\n",
    "autoexp[experiment4]['name'] = experiment4 \n",
    "autoexp[experiment4]['rabi_period'] = common_rabi_period \n",
    "autoexp[experiment4]['microwave_frequency'] = common_mw_freq \n",
    "autoexp[experiment4]['microwave_amplitude'] = common_mw_amp\n",
    "autoexp[experiment4]['start_tau'] = 930e-9 \n",
    "autoexp[experiment4]['tau_step'] = 5e-9\n",
    "autoexp[experiment4]['num_of_points'] = 40\n",
    "autoexp[experiment4]['xy8_order'] = 12\n",
    "autoexp[experiment4]['alternating'] = True\n",
    "autoexp[experiment4]['initial_pulse'] = False\n",
    "autoexp[experiment4]['measurement_time'] = 1200\n",
    "autoexp[experiment4]['optimize_time'] = None\n",
    "autoexp[experiment4]['freq_optimize_time'] = None\n",
    "autoexp[experiment4]['generate_new'] = True\n",
    "autoexp[experiment1]['meas_type'] = conventional_measurement\n",
    "autoexp[experiment4]['meas_info'] = add_conventional_information\n",
    "\n",
    "# optional parameters \n",
    "qmeas['optimize_between_experiments'] = True\n",
    "\n",
    "\n",
    "do_automized_measurements(qm_dict=qmeas, autoexp=autoexp)"
   ]
  },
  {
   "cell_type": "code",
   "execution_count": null,
   "metadata": {},
   "outputs": [],
   "source": [
    "len(poimanagerlogic.get_all_pois()[31:-1])\n"
   ]
  },
  {
   "cell_type": "code",
   "execution_count": null,
   "metadata": {},
   "outputs": [],
   "source": [
    "poimanagerlogic.get_all_pois()"
   ]
  },
  {
   "cell_type": "code",
   "execution_count": null,
   "metadata": {},
   "outputs": [],
   "source": [
    "magnet_logic._2D_data_matrix"
   ]
  },
  {
   "cell_type": "code",
   "execution_count": null,
   "metadata": {},
   "outputs": [],
   "source": []
  }
 ],
 "metadata": {
  "celltoolbar": "Raw Cell Format",
  "kernelspec": {
   "display_name": "Qudi",
   "language": "python",
   "name": "qudi"
  },
  "language_info": {
   "codemirror_mode": {
    "name": "ipython",
    "version": "3.6.5"
   },
   "file_extension": ".py",
   "mimetype": "text/x-python",
   "name": "python",
   "nbconvert_exporter": "python",
   "pygments_lexer": "ipython3",
   "version": "3.6.5"
  },
  "toc": {
   "base_numbering": 1,
   "nav_menu": {},
   "number_sections": true,
   "sideBar": true,
   "skip_h1_title": false,
   "title_cell": "Table of Contents",
   "title_sidebar": "Contents",
   "toc_cell": false,
   "toc_position": {
    "height": "calc(100% - 180px)",
    "left": "10px",
    "top": "150px",
    "width": "341px"
   },
   "toc_section_display": true,
   "toc_window_display": true
  }
 },
 "nbformat": 4,
 "nbformat_minor": 1
}
