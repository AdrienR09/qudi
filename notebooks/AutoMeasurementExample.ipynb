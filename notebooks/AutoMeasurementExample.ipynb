{
 "cells": [
  {
   "cell_type": "markdown",
   "metadata": {},
   "source": [
    "# Imports"
   ]
  },
  {
   "cell_type": "code",
   "execution_count": 1,
   "metadata": {},
   "outputs": [],
   "source": [
    "import numpy as np"
   ]
  },
  {
   "cell_type": "markdown",
   "metadata": {},
   "source": [
    "# Adding/Removing NV centers"
   ]
  },
  {
   "cell_type": "markdown",
   "metadata": {},
   "source": [
    "In order to define a confocal position as NV center one has to manually go to the desired position (maybe optimize) in confocal an then call the following function. The string argument passed will be the name of the NV center to address it later on. Entering an already existing name will throw a warning and the old NV center will be overwritten by the new one."
   ]
  },
  {
   "cell_type": "code",
   "execution_count": 20,
   "metadata": {},
   "outputs": [],
   "source": [
    "automeasurement.add_nv('Sample418_03_Overgrown_NV16')\n",
    "#automeasurement.add_nv('MyNotSoCoolName')"
   ]
  },
  {
   "cell_type": "markdown",
   "metadata": {},
   "source": [
    "If you want to get a list of all added NV center names you can find it in the following property"
   ]
  },
  {
   "cell_type": "code",
   "execution_count": 21,
   "metadata": {},
   "outputs": [
    {
     "data": {
      "text/plain": [
       "['Sample418_03_Overgrown_NV02', 'Sample418_03_Overgrown_NV03', 'Sample418_03_Overgrown_NV04', 'Sample418_03_Overgrown_NV05', 'Sample418_03_Overgrown_NV06', 'Sample418_03_Overgrown_NV07', 'Sample418_03_Overgrown_NV08', 'Sample418_03_Overgrown_NV09', 'Sample418_03_Overgrown_NV10', 'Sample418_03_Overgrown_NV11', 'Sample418_03_Overgrown_NV12', 'Sample418_03_Overgrown_NV13', 'Sample418_03_Overgrown_NV14', 'Sample418_03_Overgrown_NV15', 'Sample418_03_Overgrown_NV16']"
      ]
     },
     "execution_count": 21,
     "metadata": {},
     "output_type": "execute_result"
    }
   ],
   "source": [
    "automeasurement.nv_labels"
   ]
  },
  {
   "cell_type": "markdown",
   "metadata": {},
   "source": [
    "If you want to remove an NV center from the list you can call the following method. It will need the name of the NV center to be removed. "
   ]
  },
  {
   "cell_type": "code",
   "execution_count": 3,
   "metadata": {},
   "outputs": [
    {
     "data": {
      "text/plain": [
       "[]"
      ]
     },
     "execution_count": 3,
     "metadata": {},
     "output_type": "execute_result"
    }
   ],
   "source": [
    "automeasurement.remove_nv('Sample418_03_NV01')\n",
    "automeasurement.remove_nv('Sample418_03_NV02')\n",
    "automeasurement.remove_nv('Sample418_03_NV03')\n",
    "automeasurement.remove_nv('Sample418_03_NV04')\n",
    "automeasurement.remove_nv('Sample418_03_NV05')\n",
    "automeasurement.remove_nv('Sample418_03_NV06')\n",
    "automeasurement.nv_labels"
   ]
  },
  {
   "cell_type": "markdown",
   "metadata": {},
   "source": [
    "# Define Measurement parameters"
   ]
  },
  {
   "cell_type": "markdown",
   "metadata": {},
   "source": [
    "If you want a periodic refocus during single measurements (meaning pausing and resuming a measurement to perform a refocus) you need to set the following property in seconds.\n",
    "\n",
    "Entering values <= 0 will disable the periodic refocus."
   ]
  },
  {
   "cell_type": "code",
   "execution_count": 23,
   "metadata": {},
   "outputs": [],
   "source": [
    "automeasurement.refocus_interval = 720 # Refocus every 10min"
   ]
  },
  {
   "cell_type": "markdown",
   "metadata": {},
   "source": [
    "Each implemented measurement has its own dictionary containing a set of parameters. You can set them directly like:"
   ]
  },
  {
   "cell_type": "code",
   "execution_count": 24,
   "metadata": {},
   "outputs": [],
   "source": [
    "#automeasurement.odmr['runtime'] = 30  # in seconds\n",
    "#automeasurement.odmr['fit'] = 'Lorentzian dip'  # check for naming in the GUI\n",
    "#automeasurement.odmr['start'] = 1.42e9  # in Hertz\n",
    "#automeasurement.odmr['stop'] = 1.6e9  # in Hertz\n",
    "#automeasurement.odmr['step'] = 2.0e6  # in Hertz\n",
    "#automeasurement.odmr['power'] = -3.0  # in dBm\n",
    "\n",
    "automeasurement.pulsedODMR['runtime'] = 300  # in seconds\n",
    "automeasurement.pulsedODMR['fit'] = 'No fit'  # check for naming in the GUI\n",
    "#automeasurement.pulsedODMR['freq_start'] = 2.769e9  # in Hz\n",
    "automeasurement.pulsedODMR['freq_step'] = 200e3  # in Hz\n",
    "automeasurement.pulsedODMR['num_of_points'] = 100\n",
    "\n",
    "automeasurement.rabi['runtime'] = 90  # in seconds\n",
    "automeasurement.rabi['fit'] = 'SineDecay'  # check for naming in the GUI\n",
    "automeasurement.rabi['start'] = 1e-9  # in seconds\n",
    "automeasurement.rabi['step'] = 3e-9  # in seconds\n",
    "automeasurement.rabi['points'] = 50\n",
    "\n",
    "automeasurement.hahnecho['runtime'] = 1800 # in seconds\n",
    "automeasurement.hahnecho['fit'] = 'hahn'  # check for naming in the GUI\n",
    "automeasurement.hahnecho['start'] = 10e-6  # in seconds\n",
    "automeasurement.hahnecho['step'] = 8e-6  # in seconds\n",
    "automeasurement.hahnecho['points'] = 40\n",
    "automeasurement.hahnecho['alternating'] = True  # boolean\n",
    "\n",
    "automeasurement.xy8['runtime'] = 7200  # in seconds\n",
    "automeasurement.xy8['fit'] = 'No Fit'  # check for naming in the GUI\n",
    "automeasurement.xy8['start'] = 228e-9  # in seconds\n",
    "automeasurement.xy8['step'] = 0.2e-9  # in seconds\n",
    "automeasurement.xy8['points'] = 100\n",
    "automeasurement.xy8['order'] = 16\n",
    "automeasurement.xy8['alternating'] = True  # boolean"
   ]
  },
  {
   "cell_type": "markdown",
   "metadata": {},
   "source": [
    "For all pulsed measurements you also need to set the global parameters (in the GUI you can find them on the top of the \"predefined methods\" tab). You can either do that in the GUI by hand or you can set some of them using the following properties "
   ]
  },
  {
   "cell_type": "code",
   "execution_count": null,
   "metadata": {},
   "outputs": [],
   "source": [
    "automeasurement.mw_amplitude = 0.175  # in Volts\n",
    "automeasurement.mw_frequency = 1.4881e9  # in Hertz\n",
    "automeasurement.rabi_period = 100e-9  # in seconds\n",
    "automeasurement.laser_length = 3e-6  # in seconds"
   ]
  },
  {
   "cell_type": "markdown",
   "metadata": {},
   "source": [
    "# Perform a single measurement"
   ]
  },
  {
   "cell_type": "markdown",
   "metadata": {},
   "source": [
    "You can perform a single measurement by calling one of the following functions. (Remove the comment hastag to use them)\n",
    "\n",
    "KEEP IN MIND THAT THE AUTOMEASUREMENT MODULE WILL BE BUSY UNTIL THE MEASUREMENT HAS BEEN FINISHED."
   ]
  },
  {
   "cell_type": "code",
   "execution_count": null,
   "metadata": {},
   "outputs": [],
   "source": [
    "# automeasurement.measure_odmr()\n",
    "# automeasurement.measure_rabi()\n",
    "# automeasurement.measure_hahnecho()\n",
    "# automeasurement.measure_xy8()"
   ]
  },
  {
   "cell_type": "markdown",
   "metadata": {},
   "source": [
    "In order to trigger a confocal refocus you can call the following"
   ]
  },
  {
   "cell_type": "code",
   "execution_count": null,
   "metadata": {},
   "outputs": [],
   "source": [
    "# automeasurement.refocus()"
   ]
  },
  {
   "cell_type": "markdown",
   "metadata": {},
   "source": [
    "If you want to move the confocal microscope to another NV position you can call the following by passing the NV name as argument"
   ]
  },
  {
   "cell_type": "code",
   "execution_count": null,
   "metadata": {},
   "outputs": [],
   "source": [
    "automeasurement.move_to('Sample421_5keV_NV03')\n",
    "# You can also enter coordinates directly\n",
    "# automeasurement.move_to([100e-6, 100e-6, 0.0])"
   ]
  },
  {
   "cell_type": "markdown",
   "metadata": {},
   "source": [
    "# Perform all measurements on a NV center"
   ]
  },
  {
   "cell_type": "markdown",
   "metadata": {},
   "source": [
    "In order to perform all of the above measurements you just need to call this with the nv name to characterize. It will move the confocal to the NV and start measuring. In between two measurement it will perform a refocus additionally to if you have set a refocus interval."
   ]
  },
  {
   "cell_type": "code",
   "execution_count": 25,
   "metadata": {},
   "outputs": [
    {
     "name": "stdout",
     "output_type": "stream",
     "text": [
      "2D gaussian fit not successfull\n"
     ]
    },
    {
     "data": {
      "text/plain": [
       "(Parameters([('amplitude', <Parameter 'amplitude', value=0.09772139155558857 +/- 0.00425, bounds=[0:inf]>), ('frequency', <Parameter 'frequency', value=28193409.670826185 +/- 9.03e+04, bounds=[680272.1088435374:156666666.6666667]>), ('phase', <Parameter 'phase', value=1.5068101647842873 +/- 0.0456, bounds=[-6.283185307179586:6.283185307179586]>), ('beta', <Parameter 'beta', value=1 (fixed), bounds=[-inf:inf]>), ('lifetime', <Parameter 'lifetime', value=5.999999927209754e-07 +/- 8.7e-07, bounds=[6.000000000000001e-09:6e-07]>), ('offset', <Parameter 'offset', value=1.0344662552682218 +/- 0.00146, bounds=[-inf:inf]>)]), Parameters([('amplitude', <Parameter 'amplitude', value=0.06371312491934128 +/- 0.00929, bounds=[-inf:inf]>), ('beta', <Parameter 'beta', value=8.385754063247884 +/- 5.89, bounds=[0:inf]>), ('lifetime', <Parameter 'lifetime', value=0.00034027599330022085 +/- 2.29e-05, bounds=[3.2e-05:inf]>), ('offset', <Parameter 'offset', value=1.0264330455380104 +/- 0.00614, bounds=[-inf:inf]>)]))"
      ]
     },
     "execution_count": 25,
     "metadata": {},
     "output_type": "execute_result"
    }
   ],
   "source": [
    "automeasurement.characterize_nv('Sample418_03_Overgrown_NV02')\n",
    "automeasurement.characterize_nv('Sample418_03_Overgrown_NV03')\n",
    "automeasurement.characterize_nv('Sample418_03_Overgrown_NV04')\n",
    "automeasurement.characterize_nv('Sample418_03_Overgrown_NV05')\n",
    "automeasurement.characterize_nv('Sample418_03_Overgrown_NV06')\n",
    "automeasurement.characterize_nv('Sample418_03_Overgrown_NV07')\n",
    "automeasurement.characterize_nv('Sample418_03_Overgrown_NV08')\n",
    "automeasurement.characterize_nv('Sample418_03_Overgrown_NV09')\n",
    "automeasurement.characterize_nv('Sample418_03_Overgrown_NV10')\n",
    "automeasurement.characterize_nv('Sample418_03_Overgrown_NV11')\n",
    "automeasurement.characterize_nv('Sample418_03_Overgrown_NV12')\n",
    "automeasurement.characterize_nv('Sample418_03_Overgrown_NV13')\n",
    "automeasurement.characterize_nv('Sample418_03_Overgrown_NV14')\n",
    "automeasurement.characterize_nv('Sample418_03_Overgrown_NV15')\n",
    "automeasurement.characterize_nv('Sample418_03_Overgrown_NV16')"
   ]
  },
  {
   "cell_type": "code",
   "execution_count": null,
   "metadata": {},
   "outputs": [],
   "source": [
    "pulsedmasterlogic.break_variable = False\n",
    "\n",
    "if not pulsedmasterlogic.break_variable: messung\n",
    "if not pulsedmasterlogic.break_variable: messung\n",
    "    if not pulsedmasterlogic.break_variable: messung\n",
    "        if not pulsedmasterlogic.break_variable: messung\n",
    "            if not pulsedmasterlogic.break_variable: messung\n"
   ]
  }
 ],
 "metadata": {
  "kernelspec": {
   "display_name": "Qudi",
   "language": "python",
   "name": "qudi"
  },
  "language_info": {
   "codemirror_mode": {
    "name": "ipython",
    "version": "3.6.5"
   },
   "file_extension": ".py",
   "mimetype": "text/x-python",
   "name": "python",
   "nbconvert_exporter": "python",
   "pygments_lexer": "ipython3",
   "version": "3.6.5"
  }
 },
 "nbformat": 4,
 "nbformat_minor": 2
}
